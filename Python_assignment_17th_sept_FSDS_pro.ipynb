{
  "nbformat": 4,
  "nbformat_minor": 0,
  "metadata": {
    "colab": {
      "provenance": [],
      "authorship_tag": "ABX9TyNgBULupTkZlhu6YP+UBi+p",
      "include_colab_link": true
    },
    "kernelspec": {
      "name": "python3",
      "display_name": "Python 3"
    },
    "language_info": {
      "name": "python"
    }
  },
  "cells": [
    {
      "cell_type": "markdown",
      "metadata": {
        "id": "view-in-github",
        "colab_type": "text"
      },
      "source": [
        "<a href=\"https://colab.research.google.com/github/RahulkumarPandey-8/Python_assignment_17th_sept_FSDS_pro/blob/main/Python_assignment_17th_sept_FSDS_pro.ipynb\" target=\"_parent\"><img src=\"https://colab.research.google.com/assets/colab-badge.svg\" alt=\"Open In Colab\"/></a>"
      ]
    },
    {
      "cell_type": "markdown",
      "source": [
        "For Loop :-"
      ],
      "metadata": {
        "id": "UJ2uoiLCKFyt"
      }
    },
    {
      "cell_type": "code",
      "execution_count": null,
      "metadata": {
        "colab": {
          "base_uri": "https://localhost:8080/"
        },
        "id": "C9KSVmlMJBkd",
        "outputId": "a2e3b1bd-6c2e-480f-d79b-5e240d25697f"
      },
      "outputs": [
        {
          "output_type": "stream",
          "name": "stdout",
          "text": [
            "1\n",
            "2\n",
            "3\n",
            "4\n",
            "5\n",
            "6\n",
            "7\n",
            "8\n",
            "9\n",
            "10\n"
          ]
        }
      ],
      "source": [
        "#Q1 To write python program to print numbers from 1 to 10 using a for loop:\n",
        "for i in range(1, 11):\n",
        "    print(i)\n",
        "\n",
        "\n",
        "\n"
      ]
    },
    {
      "cell_type": "code",
      "source": [
        "#Q2 The explanation  of the difference between a for loop and a while loop in python:\n",
        "# Use a for loop to iterate over the characters of a string\n",
        "s = \"Hello\"\n",
        "for c in s:\n",
        "    # Print each character in the string\n",
        "    print(c)\n",
        "\n",
        "# Use a while loop to count down from 10 to 0\n",
        "n = 10\n",
        "while n >= 0:\n",
        "    # Print the current value of n\n",
        "    print(n)\n",
        "    # Decrement n by 1\n",
        "    n = n - 1\n",
        "\n"
      ],
      "metadata": {
        "id": "SSxZ6nYFLNYH",
        "colab": {
          "base_uri": "https://localhost:8080/"
        },
        "outputId": "e2fc3bad-e394-42f0-acc9-09f1a61e5358"
      },
      "execution_count": null,
      "outputs": [
        {
          "output_type": "stream",
          "name": "stdout",
          "text": [
            "H\n",
            "e\n",
            "l\n",
            "l\n",
            "o\n",
            "10\n",
            "9\n",
            "8\n",
            "7\n",
            "6\n",
            "5\n",
            "4\n",
            "3\n",
            "2\n",
            "1\n",
            "0\n"
          ]
        }
      ]
    },
    {
      "cell_type": "code",
      "source": [
        "#Q3 To calculate the sum of all numbers from 1 to 100 using a for loop:\n",
        "\n",
        "# Use range function to generate numbers from 1 to 100\n",
        "# Initialize a variable to store the sum\n",
        "sum = 0\n",
        "for i in range(1, 101):\n",
        "    # Add each number to the sum\n",
        "    sum = sum + i\n",
        "# Print the final sum\n",
        "print(sum)\n"
      ],
      "metadata": {
        "id": "PyPp9DbSXlKB",
        "colab": {
          "base_uri": "https://localhost:8080/"
        },
        "outputId": "5bb16032-6efd-4617-8de3-0a75795fca7a"
      },
      "execution_count": null,
      "outputs": [
        {
          "output_type": "stream",
          "name": "stdout",
          "text": [
            "5050\n"
          ]
        }
      ]
    },
    {
      "cell_type": "code",
      "source": [
        "#Q4 To iterate through a list using a for loop in python:\n",
        "\n",
        "# Define a list of fruits\n",
        "fruits = [\"apple\", \"banana\", \"orange\", \"grape\"]\n",
        "# Use a for loop to iterate over the list\n",
        "for fruit in fruits:\n",
        "    # Print each element in the list\n",
        "    print(fruit)\n"
      ],
      "metadata": {
        "colab": {
          "base_uri": "https://localhost:8080/"
        },
        "id": "VTnC6DkgKwYM",
        "outputId": "c8ec1e0e-1aff-4579-f575-b449d054b116"
      },
      "execution_count": null,
      "outputs": [
        {
          "output_type": "stream",
          "name": "stdout",
          "text": [
            "apple\n",
            "banana\n",
            "orange\n",
            "grape\n"
          ]
        }
      ]
    },
    {
      "cell_type": "code",
      "source": [
        "#Q5 To find the product of all elements in a list using a for loop :\n",
        "\n",
        "# Define a list of numbers\n",
        "numbers = [2, 4, 6, 8, 10]\n",
        "# Initialize a variable to store the product\n",
        "product = 1\n",
        "# Use a for loop to iterate over the list\n",
        "for number in numbers:\n",
        "    # Multiply each element by the product\n",
        "    product = product * number\n",
        "# Print the final product\n",
        "print(product)\n"
      ],
      "metadata": {
        "colab": {
          "base_uri": "https://localhost:8080/"
        },
        "id": "xH10iPlSLGWS",
        "outputId": "25cb9161-14dc-47cd-e9d2-7887f513ea93"
      },
      "execution_count": null,
      "outputs": [
        {
          "output_type": "stream",
          "name": "stdout",
          "text": [
            "3840\n"
          ]
        }
      ]
    },
    {
      "cell_type": "code",
      "source": [
        "#Q6 To print all even numbers from 1 to 20 using a for loop:\n",
        "\n",
        "# Use range function to generate even numbers from 2 to 20\n",
        "for i in range(2, 21, 2):\n",
        "    # Print each number in the sequence\n",
        "    print(i)\n"
      ],
      "metadata": {
        "colab": {
          "base_uri": "https://localhost:8080/"
        },
        "id": "ryE3fEDcLTeb",
        "outputId": "6d4efa04-f652-407f-8a45-ccb04be6c3e1"
      },
      "execution_count": null,
      "outputs": [
        {
          "output_type": "stream",
          "name": "stdout",
          "text": [
            "2\n",
            "4\n",
            "6\n",
            "8\n",
            "10\n",
            "12\n",
            "14\n",
            "16\n",
            "18\n",
            "20\n"
          ]
        }
      ]
    },
    {
      "cell_type": "code",
      "source": [
        "#Q7 To calculate the factorial of a number using a for loop :\n",
        "\n",
        "# Define a number to calculate its factorial\n",
        "n = 5\n",
        "# Initialize a variable to store the factorial\n",
        "factorial = 1\n",
        "# Use a for loop to iterate from 1 to n\n",
        "for i in range(1, n + 1):\n",
        "    # Multiply the factorial by each number\n",
        "    factorial = factorial * i\n",
        "# Print the final factorial\n",
        "print(factorial)\n"
      ],
      "metadata": {
        "colab": {
          "base_uri": "https://localhost:8080/"
        },
        "id": "LX8WcmRULvWJ",
        "outputId": "f46c694e-f797-47dc-8200-644eecdd18c8"
      },
      "execution_count": null,
      "outputs": [
        {
          "output_type": "stream",
          "name": "stdout",
          "text": [
            "120\n"
          ]
        }
      ]
    },
    {
      "cell_type": "code",
      "source": [
        "#Q8 To iterate through the characters of a string using a for loop in python :\n",
        "\n",
        "# Define a string of alphabets\n",
        "alphabets = \"ABCDEFGHIJKLMNOPQRSTUVWXYZ\"\n",
        "# Use a for loop to iterate over the string\n",
        "for alphabet in alphabets:\n",
        "    # Print each character in the string\n",
        "    print(alphabet)\n"
      ],
      "metadata": {
        "colab": {
          "base_uri": "https://localhost:8080/"
        },
        "id": "XXsxjVwJMDdc",
        "outputId": "622de904-02fc-4136-8c2b-b44595fba58b"
      },
      "execution_count": null,
      "outputs": [
        {
          "output_type": "stream",
          "name": "stdout",
          "text": [
            "A\n",
            "B\n",
            "C\n",
            "D\n",
            "E\n",
            "F\n",
            "G\n",
            "H\n",
            "I\n",
            "J\n",
            "K\n",
            "L\n",
            "M\n",
            "N\n",
            "O\n",
            "P\n",
            "Q\n",
            "R\n",
            "S\n",
            "T\n",
            "U\n",
            "V\n",
            "W\n",
            "X\n",
            "Y\n",
            "Z\n"
          ]
        }
      ]
    },
    {
      "cell_type": "code",
      "source": [
        "#Q9 To find the largest number in a list using a for loop :\n",
        "\n",
        "# Define a list of numbers\n",
        "numbers = [12, 34, 56, 78, 90]\n",
        "# Initialize a variable to store the largest number\n",
        "largest = numbers[0]\n",
        "# Use a for loop to iterate over the list\n",
        "for number in numbers:\n",
        "    # Compare each element with the largest number\n",
        "    if number > largest:\n",
        "        # Update the largest number to the element\n",
        "        largest = number\n",
        "# Print the final largest number\n",
        "print(largest)\n"
      ],
      "metadata": {
        "colab": {
          "base_uri": "https://localhost:8080/"
        },
        "id": "nuUg2vzZMUpP",
        "outputId": "2a7a2688-f2ff-47bc-aeaa-0734bd3e4c52"
      },
      "execution_count": null,
      "outputs": [
        {
          "output_type": "stream",
          "name": "stdout",
          "text": [
            "90\n"
          ]
        }
      ]
    },
    {
      "cell_type": "code",
      "source": [
        "#Q10 To print fibonacci sequence up to a specified limit using a for loop :\n",
        "\n",
        "# Define a limit to print the Fibonacci sequence up to\n",
        "limit = 100\n",
        "# Initialize two variables to store the current and the next term\n",
        "current = 0\n",
        "next = 1\n",
        "# Use a for loop to iterate until the current term is less than or equal to the limit\n",
        "for i in range(limit + 1):\n",
        "    # Print the current term\n",
        "    print(current)\n",
        "    # Calculate the sum of the current and the next term\n",
        "    sum = current + next\n",
        "    # Update the current term to the next term\n",
        "    current = next\n",
        "    # Update the next term to the sum\n",
        "    next = sum\n",
        "    # Break the loop if the current term exceeds the limit\n",
        "    if current > limit:\n",
        "        break\n"
      ],
      "metadata": {
        "colab": {
          "base_uri": "https://localhost:8080/"
        },
        "id": "5xDM50SxMmjR",
        "outputId": "c258fe57-364b-475c-b218-1e86f9ecebac"
      },
      "execution_count": null,
      "outputs": [
        {
          "output_type": "stream",
          "name": "stdout",
          "text": [
            "0\n",
            "1\n",
            "1\n",
            "2\n",
            "3\n",
            "5\n",
            "8\n",
            "13\n",
            "21\n",
            "34\n",
            "55\n",
            "89\n"
          ]
        }
      ]
    },
    {
      "cell_type": "code",
      "source": [
        "# prompt:Q11 Write a Python program to count the number of vowels in a given string using a for loop\n",
        "\n",
        "def count_vowels(string):\n",
        "    # Convert the string to lowercase\n",
        "    string = string.lower()\n",
        "    # Create a set of vowels\n",
        "    vowels = {'a', 'e', 'i', 'o', 'u'}\n",
        "    # Initialize a counter to store the number of vowels\n",
        "    count = 0\n",
        "    # Iterate over the string\n",
        "    for letter in string:\n",
        "        # Check if the letter is a vowel\n",
        "        if letter in vowels:\n",
        "            # Increment the counter\n",
        "            count += 1\n",
        "    # Return the number of vowels\n",
        "    return count\n",
        "\n",
        "\n",
        "# Example usage\n",
        "string = \"Hello, world!\"\n",
        "print(count_vowels(string))\n"
      ],
      "metadata": {
        "id": "fRG3CqYPM2Cs",
        "colab": {
          "base_uri": "https://localhost:8080/"
        },
        "outputId": "f0b93c7e-db36-4bc7-dac5-d2c2c17ebffa"
      },
      "execution_count": null,
      "outputs": [
        {
          "output_type": "stream",
          "name": "stdout",
          "text": [
            "3\n"
          ]
        }
      ]
    },
    {
      "cell_type": "code",
      "source": [
        "# prompt:Q12 Create a Python program that generates a multiplication table for a given number using a for loop.\n",
        "\n",
        "# Define the number for which the multiplication table is to be generated\n",
        "number = int(input(\"Enter a number: \"))\n",
        "\n",
        "# Print the heading of the multiplication table\n",
        "print(\"Multiplication table for\", number)\n",
        "\n",
        "# Iterate over the numbers from 1 to 10\n",
        "for i in range(1, 11):\n",
        "    # Calculate the product of the number and the current iteration\n",
        "    product = number * i\n",
        "\n",
        "    # Print the product\n",
        "    print(number, \"x\", i, \"=\", product)\n"
      ],
      "metadata": {
        "colab": {
          "base_uri": "https://localhost:8080/"
        },
        "id": "tdKo1F1WDc7j",
        "outputId": "3b800bc2-265b-43a8-870f-905a259eb19d"
      },
      "execution_count": null,
      "outputs": [
        {
          "output_type": "stream",
          "name": "stdout",
          "text": [
            "Enter a number: 15\n",
            "Multiplication table for 15\n",
            "15 x 1 = 15\n",
            "15 x 2 = 30\n",
            "15 x 3 = 45\n",
            "15 x 4 = 60\n",
            "15 x 5 = 75\n",
            "15 x 6 = 90\n",
            "15 x 7 = 105\n",
            "15 x 8 = 120\n",
            "15 x 9 = 135\n",
            "15 x 10 = 150\n"
          ]
        }
      ]
    },
    {
      "cell_type": "code",
      "source": [
        "#  Q13 Write a Python program to reverse a list using a for loop.\n",
        "\n",
        "def reverse_list(list1):\n",
        "    result = []\n",
        "    for i in range(len(list1) - 1, -1, -1):\n",
        "        result.append(list1[i])\n",
        "    return result\n"
      ],
      "metadata": {
        "id": "CwQKzEyELhUm"
      },
      "execution_count": null,
      "outputs": []
    },
    {
      "cell_type": "code",
      "source": [
        "# Q14 Write a Python program to find the common elements between two lists using a for loop.\n",
        "\n",
        "def find_common_elements(list1, list2):\n",
        "    result = []\n",
        "    for i in list1:\n",
        "        if i in list2:\n",
        "            result.append(i)\n",
        "    return result\n"
      ],
      "metadata": {
        "id": "iEcTqPV_LxXu"
      },
      "execution_count": null,
      "outputs": []
    },
    {
      "cell_type": "code",
      "source": [
        "# prompt:Q15 Explain how to use a for loop to iterate through the keys and values of a dictionary in Python\n",
        "\n",
        "my_dict = {1: \"one\", 2: \"two\", 3: \"three\"}\n",
        "\n",
        "# Iterate over the keys of the dictionary\n",
        "for key in my_dict:\n",
        "    print(key)\n",
        "\n",
        "# Iterate over the values of the dictionary\n",
        "for value in my_dict.values():\n",
        "    print(value)\n",
        "\n",
        "# Iterate over the key-value pairs of the dictionary\n",
        "for key, value in my_dict.items():\n",
        "    print(key, value)\n"
      ],
      "metadata": {
        "colab": {
          "base_uri": "https://localhost:8080/"
        },
        "id": "hzXWBHymMAs_",
        "outputId": "e47e7ae7-1bcb-44b4-8e4c-2eaecab6ec07"
      },
      "execution_count": null,
      "outputs": [
        {
          "output_type": "stream",
          "name": "stdout",
          "text": [
            "1\n",
            "2\n",
            "3\n",
            "one\n",
            "two\n",
            "three\n",
            "1 one\n",
            "2 two\n",
            "3 three\n"
          ]
        }
      ]
    },
    {
      "cell_type": "code",
      "source": [
        "# prompt:Q16 Write a Python program to find the GCD (Greatest Common Divisor) of two numbers using a for loop.\n",
        "\n",
        "def gcd(a, b):\n",
        "    \"\"\"Return the greatest common divisor of two numbers.\"\"\"\n",
        "    if a > b:\n",
        "        a, b = b, a\n",
        "    while b != 0:\n",
        "        a, b = b, a % b\n",
        "    return a\n",
        "\n",
        "\n",
        "# Example usage\n",
        "print(gcd(12, 18))  # 6\n",
        "print(gcd(24, 36))  # 12\n",
        "print(gcd(100, 200))  # 100\n"
      ],
      "metadata": {
        "colab": {
          "base_uri": "https://localhost:8080/"
        },
        "id": "IaiaCwvQMVye",
        "outputId": "863611cb-def7-411d-baac-6e7658f71fa3"
      },
      "execution_count": null,
      "outputs": [
        {
          "output_type": "stream",
          "name": "stdout",
          "text": [
            "6\n",
            "12\n",
            "100\n"
          ]
        }
      ]
    },
    {
      "cell_type": "code",
      "source": [
        "# prompt:Q17 Create a Python program that checks if a string is a palindrome using a for loop.\n",
        "\n",
        "def is_palindrome(string):\n",
        "    # Convert the string to lowercase\n",
        "    string = string.lower()\n",
        "    # Create a new string that is the reverse of the original string\n",
        "    reversed_string = string[::-1]\n",
        "    # Check if the original string and the reversed string are equal\n",
        "    return string == reversed_string\n",
        "\n",
        "\n",
        "# Example usage\n",
        "print(is_palindrome(\"racecar\"))  # True\n",
        "print(is_palindrome(\"level\"))  # True\n",
        "print(is_palindrome(\"kayak\"))  # True\n",
        "print(is_palindrome(\"hello\"))  # False\n"
      ],
      "metadata": {
        "colab": {
          "base_uri": "https://localhost:8080/"
        },
        "id": "yXm8l9jDMvaq",
        "outputId": "3d94e3ab-faf7-4b61-8a0d-6ae69004e69e"
      },
      "execution_count": null,
      "outputs": [
        {
          "output_type": "stream",
          "name": "stdout",
          "text": [
            "True\n",
            "True\n",
            "True\n",
            "False\n"
          ]
        }
      ]
    },
    {
      "cell_type": "code",
      "source": [
        "# Q18 Write a Python program to remove duplicates from a list using a for loop.\n",
        "def remove_duplicates(input_list):\n",
        "    result = []\n",
        "    for item in input_list:\n",
        "        if item not in result:\n",
        "            result.append(item)\n",
        "    return result\n",
        "\n",
        "# Example usage:\n",
        "my_list = [1, 2, 2, 3, 4, 4, 5]\n",
        "unique_list = remove_duplicates(my_list)\n",
        "print(unique_list)\n"
      ],
      "metadata": {
        "id": "2mIXw-L2NDK1",
        "colab": {
          "base_uri": "https://localhost:8080/"
        },
        "outputId": "8f3b21f7-a7d9-4a4f-aa35-5f514b382eb5"
      },
      "execution_count": null,
      "outputs": [
        {
          "output_type": "stream",
          "name": "stdout",
          "text": [
            "[1, 2, 3, 4, 5]\n"
          ]
        }
      ]
    },
    {
      "cell_type": "code",
      "source": [
        "#Q19 Create a Python program that counts the number of words in a sentence using a for loop.\n",
        "\n",
        "\n",
        "def count_words(sentence):\n",
        "    words = sentence.split()\n",
        "    word_count = 0\n",
        "    for word in words:\n",
        "        word_count += 1\n",
        "    return word_count\n",
        "\n",
        "# Example usage:\n",
        "my_sentence = \"This is a sample sentence.\"\n",
        "word_count = count_words(my_sentence)\n",
        "print(\"Number of words:\", word_count)\n"
      ],
      "metadata": {
        "colab": {
          "base_uri": "https://localhost:8080/"
        },
        "id": "Sa_DwCV7W_ej",
        "outputId": "961fc7a7-ab27-4fe4-dcbe-053b6282c9d0"
      },
      "execution_count": null,
      "outputs": [
        {
          "output_type": "stream",
          "name": "stdout",
          "text": [
            "Number of words: 5\n"
          ]
        }
      ]
    },
    {
      "cell_type": "code",
      "source": [
        "#Q20 Write a Python program to find the sum of all odd numbers from 1 to 50 using a for loop\n",
        "\n",
        "sum_odd = 0\n",
        "for num in range(1, 51, 2):\n",
        "    sum_odd += num\n",
        "\n",
        "print(\"Sum of odd numbers from 1 to 50:\", sum_odd)\n"
      ],
      "metadata": {
        "colab": {
          "base_uri": "https://localhost:8080/"
        },
        "id": "8xMsJOy7XW68",
        "outputId": "ad56e5fb-54ce-456f-be4a-101d6be97307"
      },
      "execution_count": null,
      "outputs": [
        {
          "output_type": "stream",
          "name": "stdout",
          "text": [
            "Sum of odd numbers from 1 to 50: 625\n"
          ]
        }
      ]
    },
    {
      "cell_type": "code",
      "source": [
        "#Q21 Write a Python program that checks if a given year is a leap year using a for loop.\n",
        "\n",
        "def is_leap_year(year):\n",
        "    for i in range(4, 2501, 4):\n",
        "        if year == i:\n",
        "            return True\n",
        "    return False\n",
        "\n",
        "# Example usage:\n",
        "my_year = 2024\n",
        "if is_leap_year(my_year):\n",
        "    print(my_year, \"is a leap year.\")\n",
        "else:\n",
        "    print(my_year, \"is not a leap year.\")\n"
      ],
      "metadata": {
        "colab": {
          "base_uri": "https://localhost:8080/"
        },
        "id": "Ivm6aJuxXla7",
        "outputId": "2013e74f-200d-4dd5-d43a-c0f54ce5b1f8"
      },
      "execution_count": null,
      "outputs": [
        {
          "output_type": "stream",
          "name": "stdout",
          "text": [
            "2024 is a leap year.\n"
          ]
        }
      ]
    },
    {
      "cell_type": "code",
      "source": [
        "#Q22 Create a Python program that calculates the square root of a number using a for loop.\n",
        "\n",
        "\n",
        "def square_root(number):\n",
        "    for i in range(1, number + 1):\n",
        "        if i * i == number:\n",
        "            return i\n",
        "\n",
        "# Example usage:\n",
        "my_number = 25\n",
        "result = square_root(my_number)\n",
        "print(\"Square root of\", my_number, \"is:\", result)\n"
      ],
      "metadata": {
        "colab": {
          "base_uri": "https://localhost:8080/"
        },
        "id": "ewF9xlSwYKVa",
        "outputId": "a481d05c-0826-4ca9-c6d9-b679c9efaa8b"
      },
      "execution_count": null,
      "outputs": [
        {
          "output_type": "stream",
          "name": "stdout",
          "text": [
            "Square root of 25 is: 5\n"
          ]
        }
      ]
    },
    {
      "cell_type": "code",
      "source": [
        "#Q23 Write a Python program to find the LCM (Least Common Multiple) of two numbers using a for loop.\n",
        "\n",
        "def find_lcm(x, y):\n",
        "    max_num = max(x, y)\n",
        "    while True:\n",
        "        if max_num % x == 0 and max_num % y == 0:\n",
        "            lcm = max_num\n",
        "            break\n",
        "        max_num += 1\n",
        "    return lcm\n",
        "\n",
        "# Example usage:\n",
        "num1 = 12\n",
        "num2 = 18\n",
        "result_lcm = find_lcm(num1, num2)\n",
        "print(\"LCM of\", num1, \"and\", num2, \"is:\", result_lcm)\n"
      ],
      "metadata": {
        "colab": {
          "base_uri": "https://localhost:8080/"
        },
        "id": "B1Q-fo5TYqvg",
        "outputId": "7878ced2-48c7-45dd-801e-d361c5683fe6"
      },
      "execution_count": null,
      "outputs": [
        {
          "output_type": "stream",
          "name": "stdout",
          "text": [
            "LCM of 12 and 18 is: 36\n"
          ]
        }
      ]
    },
    {
      "cell_type": "markdown",
      "source": [
        "If else:-"
      ],
      "metadata": {
        "id": "zyGpoNaYZgcZ"
      }
    },
    {
      "cell_type": "code",
      "source": [
        "#Q1 Write a Python program to check if a number is positive, negative, or zero using an if-else statement.\n",
        "\n",
        "num = float(input(\"Enter a number: \"))\n",
        "if num > 0:\n",
        "    print(\"Positive number\")\n",
        "elif num == 0:\n",
        "    print(\"Zero\")\n",
        "else:\n",
        "    print(\"Negative number\")\n"
      ],
      "metadata": {
        "colab": {
          "base_uri": "https://localhost:8080/"
        },
        "id": "VqxKXZpXY3FF",
        "outputId": "e647e9c2-7a0a-41f2-8611-3e96b8fd8cfd"
      },
      "execution_count": null,
      "outputs": [
        {
          "output_type": "stream",
          "name": "stdout",
          "text": [
            "Enter a number: 34\n",
            "Positive number\n"
          ]
        }
      ]
    },
    {
      "cell_type": "code",
      "source": [
        "#Q2 Create a Python program that checks if a given number is even or odd using an if-else statement.\n",
        "\n",
        "num = int(input(\"Enter a number: \"))\n",
        "if num % 2 == 0:\n",
        "    print(\"Even number\")\n",
        "else:\n",
        "    print(\"Odd number\")\n"
      ],
      "metadata": {
        "colab": {
          "base_uri": "https://localhost:8080/"
        },
        "id": "9HbWD8CCZtW-",
        "outputId": "f2039553-ccd6-4bf9-9c65-730d188d5c00"
      },
      "execution_count": null,
      "outputs": [
        {
          "output_type": "stream",
          "name": "stdout",
          "text": [
            "Enter a number: 33\n",
            "Odd number\n"
          ]
        }
      ]
    },
    {
      "cell_type": "code",
      "source": [
        "#Q3 How can you use nested if-else statements in Python, and provide an example?\n",
        "\n",
        "num = int(input(\"Enter a number: \"))\n",
        "if num >= 0:\n",
        "    if num == 0:\n",
        "        print(\"Zero\")\n",
        "    else:\n",
        "        print(\"Positive number\")\n",
        "        if num % 2 == 0:\n",
        "            print(\"Even number\")\n",
        "        else:\n",
        "            print(\"Odd number\")\n",
        "else:\n",
        "    print(\"Negative number\")\n"
      ],
      "metadata": {
        "colab": {
          "base_uri": "https://localhost:8080/"
        },
        "id": "75Pjd2FZZ9x3",
        "outputId": "01e4d9fb-61a1-4ddd-d2d6-8b841cbf35a3"
      },
      "execution_count": null,
      "outputs": [
        {
          "output_type": "stream",
          "name": "stdout",
          "text": [
            "Enter a number: 656\n",
            "Positive number\n",
            "Even number\n"
          ]
        }
      ]
    },
    {
      "cell_type": "code",
      "source": [
        "#Q4 Write a Python program to determine the largest of three numbers using if-else.\n",
        "\n",
        "num1 = float(input(\"Enter the first number: \"))\n",
        "num2 = float(input(\"Enter the second number: \"))\n",
        "num3 = float(input(\"Enter the third number: \"))\n",
        "\n",
        "if num1 >= num2 and num1 >= num3:\n",
        "    largest = num1\n",
        "elif num2 >= num1 and num2 >= num3:\n",
        "    largest = num2\n",
        "else:\n",
        "    largest = num3\n",
        "\n",
        "print(\"The largest number is\", largest)\n"
      ],
      "metadata": {
        "colab": {
          "base_uri": "https://localhost:8080/"
        },
        "id": "u7shFeUsaKww",
        "outputId": "5f4fd362-8cf5-4695-892a-a46d020da448"
      },
      "execution_count": null,
      "outputs": [
        {
          "output_type": "stream",
          "name": "stdout",
          "text": [
            "Enter the first number: 34\n",
            "Enter the second number: 33\n",
            "Enter the third number: 333\n",
            "The largest number is 333.0\n"
          ]
        }
      ]
    },
    {
      "cell_type": "code",
      "source": [
        "#Q5 Write a Python program that calculates the absolute value of a number using if-else.\n",
        "\n",
        "num = float(input(\"Enter a number: \"))\n",
        "if num >= 0:\n",
        "    absolute_value = num\n",
        "else:\n",
        "    absolute_value = -num\n",
        "\n",
        "print(\"The absolute value of\", num, \"is\", absolute_value)\n"
      ],
      "metadata": {
        "colab": {
          "base_uri": "https://localhost:8080/"
        },
        "id": "qrEh5v0MaYqe",
        "outputId": "f234e286-d429-46b6-f5c6-e5df54b96f3f"
      },
      "execution_count": null,
      "outputs": [
        {
          "output_type": "stream",
          "name": "stdout",
          "text": [
            "Enter a number: 467.55\n",
            "The absolute value of 467.55 is 467.55\n"
          ]
        }
      ]
    },
    {
      "cell_type": "code",
      "source": [
        "#Q6 Create a Python program that checks if a given character is a vowel or consonant using if-else.\n",
        "\n",
        "char = input(\"Enter a character: \").lower()\n",
        "\n",
        "if char.isalpha() and len(char) == 1:\n",
        "    if char in 'aeiou':\n",
        "        print(\"Vowel\")\n",
        "    else:\n",
        "        print(\"Consonant\")\n",
        "else:\n",
        "    print(\"Invalid input\")\n"
      ],
      "metadata": {
        "colab": {
          "base_uri": "https://localhost:8080/"
        },
        "id": "XqFMJ93van6U",
        "outputId": "f65a2493-99d0-4e13-d67a-aedd1fe52d4d"
      },
      "execution_count": null,
      "outputs": [
        {
          "output_type": "stream",
          "name": "stdout",
          "text": [
            "Enter a character: a\n",
            "Vowel\n"
          ]
        }
      ]
    },
    {
      "cell_type": "code",
      "source": [
        "#Q7 Write a Python program to determine if a user is eligible to vote based on their age using if-else.\n",
        "\n",
        "age = int(input(\"Enter your age: \"))\n",
        "if age >= 18:\n",
        "    print(\"You are eligible to vote.\")\n",
        "else:\n",
        "    print(\"You are not eligible to vote yet.\")\n"
      ],
      "metadata": {
        "colab": {
          "base_uri": "https://localhost:8080/"
        },
        "id": "wcc3powaa8j4",
        "outputId": "cdf1fe94-66d6-4c58-d1cf-fbf798cb3123"
      },
      "execution_count": null,
      "outputs": [
        {
          "output_type": "stream",
          "name": "stdout",
          "text": [
            "Enter your age: 14\n",
            "You are not eligible to vote yet.\n"
          ]
        }
      ]
    },
    {
      "cell_type": "code",
      "source": [
        "#Q8 Create a Python program that calculates the discount amount based on the purchase amount using if-else\n",
        "\n",
        "purchase_amount = float(input(\"Enter the purchase amount: \"))\n",
        "if purchase_amount > 1000:\n",
        "    discount = 0.1 * purchase_amount\n",
        "else:\n",
        "    discount = 0\n",
        "\n",
        "print(\"Discount amount:\", discount)\n"
      ],
      "metadata": {
        "colab": {
          "base_uri": "https://localhost:8080/"
        },
        "id": "A7XpItq-bNbm",
        "outputId": "ce9658b0-6341-49f2-e108-4f2213d0d2cb"
      },
      "execution_count": null,
      "outputs": [
        {
          "output_type": "stream",
          "name": "stdout",
          "text": [
            "Enter the purchase amount: 22\n",
            "Discount amount: 0\n"
          ]
        }
      ]
    },
    {
      "cell_type": "code",
      "source": [
        "#Q9 Write a Python program to check if a number is within a specified range using if-else.\n",
        "\n",
        "number = float(input(\"Enter a number: \"))\n",
        "lower_limit = 10\n",
        "upper_limit = 50\n",
        "\n",
        "if lower_limit <= number <= upper_limit:\n",
        "    print(\"The number is within the specified range.\")\n",
        "else:\n",
        "    print(\"The number is outside the specified range.\")\n"
      ],
      "metadata": {
        "colab": {
          "base_uri": "https://localhost:8080/"
        },
        "id": "kGIopyFVbZx-",
        "outputId": "8c434255-6d15-483c-a4c8-f79d6a09b060"
      },
      "execution_count": null,
      "outputs": [
        {
          "output_type": "stream",
          "name": "stdout",
          "text": [
            "Enter a number: 33\n",
            "The number is within the specified range.\n"
          ]
        }
      ]
    },
    {
      "cell_type": "code",
      "source": [
        "#Q10 Create a Python program that determines the grade of a student based on their score using if-else.\n",
        "\n",
        "score = float(input(\"Enter the student's score: \"))\n",
        "if 90 <= score <= 100:\n",
        "    grade = 'A'\n",
        "elif 80 <= score < 90:\n",
        "    grade = 'B'\n",
        "elif 70 <= score < 80:\n",
        "    grade = 'C'\n",
        "elif 60 <= score < 70:\n",
        "    grade = 'D'\n",
        "else:\n",
        "    grade = 'F'\n",
        "\n",
        "print(\"The student's grade is\", grade)\n"
      ],
      "metadata": {
        "colab": {
          "base_uri": "https://localhost:8080/"
        },
        "id": "3EodNfNyblcG",
        "outputId": "8d2311a2-919a-4ec0-bb52-17101689e97e"
      },
      "execution_count": null,
      "outputs": [
        {
          "output_type": "stream",
          "name": "stdout",
          "text": [
            "Enter the student's score: 33\n",
            "The student's grade is F\n"
          ]
        }
      ]
    },
    {
      "cell_type": "code",
      "source": [
        "# Q11 Write a Python program to check if a string is empty or not using if-else.\n",
        "\n",
        "string = input(\"Enter a string: \")\n",
        "if string:\n",
        "    print(\"The string is not empty.\")\n",
        "else:\n",
        "    print(\"The string is empty.\")\n"
      ],
      "metadata": {
        "id": "9073PJuqbz67",
        "colab": {
          "base_uri": "https://localhost:8080/"
        },
        "outputId": "736d9508-5030-47d9-dbf1-32dc21b28ea8"
      },
      "execution_count": null,
      "outputs": [
        {
          "output_type": "stream",
          "name": "stdout",
          "text": [
            "Enter a string: rahul\n",
            "The string is not empty.\n"
          ]
        }
      ]
    },
    {
      "cell_type": "code",
      "source": [
        "# Q12 Create a Python program that identifies the type of a triangle (e.g., equilateral, isosceles, or scalene) based on input values using if-else.\n",
        "\n",
        "# Get the input values from the user\n",
        "side1 = float(input(\"Enter the length of side 1: \"))\n",
        "side2 = float(input(\"Enter the length of side 2: \"))\n",
        "side3 = float(input(\"Enter the length of side 3: \"))\n",
        "\n",
        "# Check if the sides form a triangle\n",
        "if side1 + side2 > side3 and side2 + side3 > side1 and side1 + side3 > side2:\n",
        "    # Check if the triangle is equilateral\n",
        "    if side1 == side2 == side3:\n",
        "        print(\"The triangle is equilateral.\")\n",
        "    # Check if the triangle is isosceles\n",
        "    elif side1 == side2 or side2 == side3 or side1 == side3:\n",
        "        print(\"The triangle is isosceles.\")\n",
        "    # Check if the triangle is scalene\n",
        "    else:\n",
        "        print(\"The triangle is scalene.\")\n",
        "else:\n",
        "    print(\"The sides do not form a triangle.\")\n"
      ],
      "metadata": {
        "colab": {
          "base_uri": "https://localhost:8080/"
        },
        "id": "FhlpC5DWqNlb",
        "outputId": "c458698d-1565-474d-b50e-c8d3deeea175"
      },
      "execution_count": null,
      "outputs": [
        {
          "output_type": "stream",
          "name": "stdout",
          "text": [
            "Enter the length of side 1: 12\n",
            "Enter the length of side 2: 2\n",
            "Enter the length of side 3: 22\n",
            "The sides do not form a triangle.\n"
          ]
        }
      ]
    },
    {
      "cell_type": "code",
      "source": [
        "# Q13: Write a Python program to determine the day of the week based on a Write a Python program to determine the day of the week based on a user-provided number using if-else.user-provided number using if-else.\n",
        "\n",
        "day_number = int(input(\"Enter the day number (1-7): \"))\n",
        "\n",
        "if day_number == 1:\n",
        "  print(\"Sunday\")\n",
        "elif day_number == 2:\n",
        "  print(\"Monday\")\n",
        "elif day_number == 3:\n",
        "  print(\"Tuesday\")\n",
        "elif day_number == 4:\n",
        "  print(\"Wednesday\")\n",
        "elif day_number == 5:\n",
        "  print(\"Thursday\")\n",
        "elif day_number == 6:\n",
        "  print(\"Friday\")\n",
        "elif day_number == 7:\n",
        "  print(\"Saturday\")\n",
        "else:\n",
        "  print(\"Invalid day number\")\n"
      ],
      "metadata": {
        "colab": {
          "base_uri": "https://localhost:8080/"
        },
        "id": "hV2Cx4pep7lx",
        "outputId": "ec8db6d6-efc4-4984-a29e-49f0de58ac64"
      },
      "execution_count": null,
      "outputs": [
        {
          "output_type": "stream",
          "name": "stdout",
          "text": [
            "Enter the day number (1-7): 1\n",
            "Sunday\n"
          ]
        }
      ]
    },
    {
      "cell_type": "code",
      "source": [
        "# Q14 Create a Python program that checks if a given year is a leap year using both if-else and a function.\n",
        "# Define a function that checks if a year is a leap year\n",
        "def is_leap_year(year):\n",
        "  # If the year is divisible by 4\n",
        "  if year % 4 == 0:\n",
        "    # If the year is also divisible by 100\n",
        "    if year % 100 == 0:\n",
        "      # If the year is also divisible by 400\n",
        "      if year % 400 == 0:\n",
        "        # The year is a leap year\n",
        "        return True\n",
        "      # The year is not a leap year\n",
        "      else:\n",
        "        return False\n",
        "    # The year is a leap year\n",
        "    else:\n",
        "      return True\n",
        "  # The year is not a leap year\n",
        "  else:\n",
        "    return False\n",
        "\n",
        "# Ask the user to enter a year\n",
        "year = int(input(\"Enter a year: \"))\n",
        "\n",
        "# Call the function and store the result\n",
        "result = is_leap_year(year)\n",
        "\n",
        "# Print a message based on the result\n",
        "if result:\n",
        "  print(year, \"is a leap year.\")\n",
        "else:\n",
        "  print(year, \"is not a leap year.\")\n"
      ],
      "metadata": {
        "colab": {
          "base_uri": "https://localhost:8080/"
        },
        "id": "izPxiDReq7tY",
        "outputId": "1b502242-797e-4582-8b2d-f70967852541"
      },
      "execution_count": null,
      "outputs": [
        {
          "output_type": "stream",
          "name": "stdout",
          "text": [
            "Enter a year: 2022\n",
            "2022 is not a leap year.\n"
          ]
        }
      ]
    },
    {
      "cell_type": "code",
      "source": [
        "# Q15 How do you use the \"assert\" statement in Python to add debugging checks within if-else blocks?\n",
        "# Check if a number is positive or negative\n",
        "num = int(input(\"Enter a number: \"))\n",
        "if num > 0:\n",
        "  print(\"Positive\")\n",
        "  # Assert that the number is not zero\n",
        "  assert num != 0, \"Zero is not positive\"\n",
        "elif num < 0:\n",
        "  print(\"Negative\")\n",
        "  # Assert that the number is not zero\n",
        "  assert num != 0, \"Zero is not negative\"\n",
        "else:\n",
        "  print(\"Zero\")\n",
        "  # Assert that the number is zero\n",
        "  assert num == 0, \"Zero is not equal to zero\"\n"
      ],
      "metadata": {
        "colab": {
          "base_uri": "https://localhost:8080/"
        },
        "id": "j-uKFKdHrWqr",
        "outputId": "1ff78341-052c-41f7-e385-543ed46ef172"
      },
      "execution_count": null,
      "outputs": [
        {
          "output_type": "stream",
          "name": "stdout",
          "text": [
            "Enter a number: 3\n",
            "Positive\n"
          ]
        }
      ]
    },
    {
      "cell_type": "code",
      "source": [
        "# Q16 Create a Python program that determines the eligibility of a person for a senior citizen discount based on age using if-else.\n",
        "\n",
        "# Ask the user to enter their age\n",
        "age = int(input(\"Enter your age: \"))\n",
        "# Define the minimum age for senior citizen discount\n",
        "min_age = 60\n",
        "# Check if the user is eligible for the discount\n",
        "if age >= min_age:\n",
        "  print(\"You are eligible for the senior citizen discount.\")\n",
        "else:\n",
        "  print(\"You are not eligible for the senior citizen discount.\")\n"
      ],
      "metadata": {
        "colab": {
          "base_uri": "https://localhost:8080/"
        },
        "id": "mlSXxz_ws3rp",
        "outputId": "9c42612b-566f-4b73-9daa-8436ead32149"
      },
      "execution_count": null,
      "outputs": [
        {
          "output_type": "stream",
          "name": "stdout",
          "text": [
            "Enter your age: 61\n",
            "You are eligible for the senior citizen discount.\n"
          ]
        }
      ]
    },
    {
      "cell_type": "code",
      "source": [
        "# Q17 Write a Python program to categorize a given character as uppercase, lowercase, or neither using if-else.\n",
        "# Ask the user to enter a character\n",
        "char = input(\"Enter a character: \")\n",
        "# Check if the character is uppercase\n",
        "if char.isupper():\n",
        "  print(\"The character is uppercase.\")\n",
        "# Check if the character is lowercase\n",
        "elif char.islower():\n",
        "  print(\"The character is lowercase.\")\n",
        "# Otherwise, the character is neither\n",
        "else:\n",
        "  print(\"The character is neither uppercase nor lowercase.\")\n"
      ],
      "metadata": {
        "colab": {
          "base_uri": "https://localhost:8080/"
        },
        "id": "9xObnvzctOkK",
        "outputId": "ba5e1fa1-2098-4007-a8b2-eae8a87b1682"
      },
      "execution_count": null,
      "outputs": [
        {
          "output_type": "stream",
          "name": "stdout",
          "text": [
            "Enter a character: RAHUL\n",
            "The character is uppercase.\n"
          ]
        }
      ]
    },
    {
      "cell_type": "code",
      "source": [
        "# Q18 Write a Python program to determine the roots of a quadratic equation using if-else.\n",
        "\n",
        "# Import the math module\n",
        "import math\n",
        "# Ask the user to enter the coefficients of the quadratic equation\n",
        "a = float(input(\"Enter a: \"))\n",
        "b = float(input(\"Enter b: \"))\n",
        "c = float(input(\"Enter c: \"))\n",
        "# Calculate the discriminant\n",
        "d = b**2 - 4*a*c\n",
        "# Check if the discriminant is positive, zero, or negative\n",
        "if d > 0:\n",
        "  # Calculate the two real roots\n",
        "  x1 = (-b + math.sqrt(d)) / (2*a)\n",
        "  x2 = (-b - math.sqrt(d)) / (2*a)\n",
        "  print(\"The roots are\", x1, \"and\", x2)\n",
        "elif d == 0:\n",
        "  # Calculate the one real root\n",
        "  x = -b / (2*a)\n",
        "  print(\"The root is\", x)\n",
        "else:\n",
        "  # Calculate the two complex roots\n",
        "  x1 = (-b + math.sqrt(-d) * 1j) / (2*a)\n",
        "  x2 = (-b - math.sqrt(-d) * 1j) / (2*a)\n",
        "  print(\"The roots are\", x1, \"and\", x2)\n"
      ],
      "metadata": {
        "colab": {
          "base_uri": "https://localhost:8080/"
        },
        "id": "PR3h9jcCtfVI",
        "outputId": "4fa4ddf6-2d26-4574-c097-2de87b3b1389"
      },
      "execution_count": null,
      "outputs": [
        {
          "output_type": "stream",
          "name": "stdout",
          "text": [
            "Enter a: 2\n",
            "Enter b: 3\n",
            "Enter c: 4\n",
            "The roots are (-0.75+1.1989578808281798j) and (-0.75-1.1989578808281798j)\n"
          ]
        }
      ]
    },
    {
      "cell_type": "code",
      "source": [
        "# Q19 Create a Python program that checks if a given year is a century year or not using if-else.\n",
        "# Ask the user to enter a year\n",
        "year = int(input(\"Enter a year: \"))\n",
        "# Check if the year is divisible by 100\n",
        "if year % 100 == 0:\n",
        "  print(\"The year is a century year.\")\n",
        "else:\n",
        "  print(\"The year is not a century year.\")\n"
      ],
      "metadata": {
        "colab": {
          "base_uri": "https://localhost:8080/"
        },
        "id": "VVfmgBL3ty7V",
        "outputId": "ecce3f2b-e839-4780-8107-08ccf294b7cf"
      },
      "execution_count": null,
      "outputs": [
        {
          "output_type": "stream",
          "name": "stdout",
          "text": [
            "Enter a year: 2024\n",
            "The year is not a century year.\n"
          ]
        }
      ]
    },
    {
      "cell_type": "code",
      "source": [
        "# Q20 Write a Python program to determine if a given number is a perfect square using if-else.\n",
        "\n",
        "# Import the math module\n",
        "import math\n",
        "# Ask the user to enter a number\n",
        "num = int(input(\"Enter a number: \"))\n",
        "# Calculate the square root of the number\n",
        "sqrt = math.sqrt(num)\n",
        "# Check if the square root is an integer\n",
        "if sqrt.is_integer():\n",
        "  print(\"The number is a perfect square.\")\n",
        "else:\n",
        "  print(\"The number is not a perfect square.\")\n"
      ],
      "metadata": {
        "colab": {
          "base_uri": "https://localhost:8080/"
        },
        "id": "poZxnMDEuFIt",
        "outputId": "f142b757-4685-4d52-c46f-4f3641ebddc2"
      },
      "execution_count": null,
      "outputs": [
        {
          "output_type": "stream",
          "name": "stdout",
          "text": [
            "Enter a number: 23\n",
            "The number is not a perfect square.\n"
          ]
        }
      ]
    },
    {
      "cell_type": "code",
      "source": [
        "# Q21 Explain the purpose of the \"continue\" and \"break\" statements within if-else loops.\n",
        "\n",
        "\"\"\"\"The purpose of the continue and break statements within if-else loops is to control the\n",
        "flow of the loop. The continue statement skips the current iteration of the loop and moves to the next one.\n",
        "The break statement terminates the loop and exits the loop body.\n",
        "For example:\"\"\"\n",
        "\n",
        "\n",
        "\n",
        "\n",
        "\n",
        "# Loop through the numbers from 1 to 10\n",
        "for i in range(1, 11):\n",
        "  # Check if the number is even\n",
        "  if i % 2 == 0:\n",
        "    # Skip the even number\n",
        "    continue\n",
        "  # Check if the number is 7\n",
        "  elif i == 7:\n",
        "    # Stop the loop\n",
        "    break\n",
        "  # Print the odd number\n",
        "  else:\n",
        "    print(i)\n"
      ],
      "metadata": {
        "colab": {
          "base_uri": "https://localhost:8080/"
        },
        "id": "MXCsXLjluOLz",
        "outputId": "bfb502cc-bc02-4461-8924-489ea7af2d76"
      },
      "execution_count": null,
      "outputs": [
        {
          "output_type": "stream",
          "name": "stdout",
          "text": [
            "1\n",
            "3\n",
            "5\n"
          ]
        }
      ]
    },
    {
      "cell_type": "code",
      "source": [
        "# Q22 Create a Python program that calculates the BMI (Body Mass Index) of a person based on their weight and height using if-else.\n",
        "\n",
        "# Ask the user to enter their weight in kilograms\n",
        "weight = float(input(\"Enter your weight in kg: \"))\n",
        "# Ask the user to enter their height in meters\n",
        "height = float(input(\"Enter your height in m: \"))\n",
        "# Calculate the BMI\n",
        "bmi = weight / (height**2)\n",
        "# Print the BMI\n",
        "print(\"Your BMI is\", bmi)\n",
        "# Check the BMI category\n",
        "if bmi < 18.5:\n",
        "  print(\"You are underweight.\")\n",
        "elif bmi < 25:\n",
        "  print(\"You are normal weight.\")\n",
        "elif bmi < 30:\n",
        "  print(\"You are overweight.\")\n",
        "else:\n",
        "  print(\"You are obese.\")\n"
      ],
      "metadata": {
        "colab": {
          "base_uri": "https://localhost:8080/"
        },
        "id": "mtvhvfXXuwkO",
        "outputId": "ea7343db-154b-42af-9156-8d77c0d55951"
      },
      "execution_count": null,
      "outputs": [
        {
          "output_type": "stream",
          "name": "stdout",
          "text": [
            "Enter your weight in kg: 33\n",
            "Enter your height in m: 333\n",
            "Your BMI is 0.00029759489218948677\n",
            "You are underweight.\n"
          ]
        }
      ]
    },
    {
      "cell_type": "code",
      "source": [
        "# Q23 How can you use the \"filter()\" function with if-else statements to filter elements from a list?\n",
        "\n",
        "# Define a list of numbers\n",
        "numbers = [1, 2, 3, 4, 5, 6, 7, 8, 9, 10]\n",
        "# Define a function that checks if a number is even\n",
        "def is_even(num):\n",
        "  # Use an if-else statement to return True or False\n",
        "  if num % 2 == 0:\n",
        "    return True\n",
        "  else:\n",
        "    return False\n",
        "# Use the filter() function to filter the even numbers from the list\n",
        "even_numbers = filter(is_even, numbers)\n",
        "# Convert the iterator to a list and print it\n",
        "print(list(even_numbers))\n"
      ],
      "metadata": {
        "colab": {
          "base_uri": "https://localhost:8080/"
        },
        "id": "SHi-kPd-u5T9",
        "outputId": "76f2a446-d0e0-4312-aa94-86bf3f679ce4"
      },
      "execution_count": null,
      "outputs": [
        {
          "output_type": "stream",
          "name": "stdout",
          "text": [
            "[2, 4, 6, 8, 10]\n"
          ]
        }
      ]
    },
    {
      "cell_type": "code",
      "source": [
        "# Q24 Write a Python program to determine if a given number is prime or not using if-else.\n",
        "\n",
        "# Import the math module\n",
        "import math\n",
        "# Ask the user to enter a number\n",
        "num = int(input(\"Enter a number: \"))\n",
        "# Check if the number is less than or equal to 1\n",
        "if num <= 1:\n",
        "  print(\"The number is not prime.\")\n",
        "# Check if the number is 2\n",
        "elif num == 2:\n",
        "  print(\"The number is prime.\")\n",
        "# Check if the number is even\n",
        "elif num % 2 == 0:\n",
        "  print(\"The number is not prime.\")\n",
        "# Check if the number is divisible by any odd number up to its square root\n",
        "else:\n",
        "  # Assume the number is prime\n",
        "  is_prime = True\n",
        "  # Loop through the odd numbers from 3 to the square root of the number\n",
        "  for i in range(3, int(math.sqrt(num)) + 1, 2):\n",
        "    # Check if the number is divisible by the current odd number\n",
        "    if num % i == 0:\n",
        "      # The number is not prime\n",
        "      is_prime = False\n",
        "      # Stop the loop\n",
        "      break\n",
        "  # Print the result based on the is_prime flag\n",
        "  if is_prime:\n",
        "    print(\"The number is prime.\")\n",
        "  else:\n",
        "    print(\"The number is not prime.\")\n"
      ],
      "metadata": {
        "colab": {
          "base_uri": "https://localhost:8080/"
        },
        "id": "pwOtuB_hveVO",
        "outputId": "70860cee-a296-45bf-c2a9-2f084a9eac76"
      },
      "execution_count": null,
      "outputs": [
        {
          "output_type": "stream",
          "name": "stdout",
          "text": [
            "Enter a number: 33\n",
            "The number is not prime.\n"
          ]
        }
      ]
    },
    {
      "cell_type": "markdown",
      "source": [
        "\n",
        "# **Map :-**\n"
      ],
      "metadata": {
        "id": "akzy-Q9bwhX8"
      }
    },
    {
      "cell_type": "code",
      "source": [
        "# Q1 Explain the purpose of the `map()` function in Python and provide an example of how it can be used to apply a function to each element of an iterable.\n",
        "\n",
        "\"\"\" The map() function in Python is a built-in function that takes a function and an iterable (such as a list, tuple, or string)\n",
        "as arguments and returns an iterator that applies the function to each element of the iterable. The map()\n",
        " function can be used to perform the same operation on each element of an iterable without using a loop.\n",
        "  For example, if we have a list of numbers and we want to double each number, we can use the map()\n",
        "  function with a lambda function that multiplies the number by 2:  \"\"\"\n",
        "\n",
        "# Define a list of numbers\n",
        "numbers = [1, 2, 3, 4, 5]\n",
        "# Use the map() function with a lambda function to double each number\n",
        "doubled = map(lambda x: x * 2, numbers)\n",
        "# Convert the iterator to a list and print it\n",
        "print(list(doubled))\n",
        "\n"
      ],
      "metadata": {
        "colab": {
          "base_uri": "https://localhost:8080/"
        },
        "id": "qEyloYrlvpdU",
        "outputId": "520b4326-db91-4e85-b095-5171985cbd03"
      },
      "execution_count": null,
      "outputs": [
        {
          "output_type": "stream",
          "name": "stdout",
          "text": [
            "[2, 4, 6, 8, 10]\n"
          ]
        }
      ]
    },
    {
      "cell_type": "code",
      "source": [
        "# Q2 Write a Python program that uses the `map()` function to square each element of a list of numbers.\n",
        "\n",
        "# Define a list of numbers\n",
        "numbers = [1, 2, 3, 4, 5]\n",
        "# Use the map() function with a lambda function to square each number\n",
        "squared = map(lambda x: x ** 2, numbers)\n",
        "# Convert the iterator to a list and print it\n",
        "print(list(squared))\n"
      ],
      "metadata": {
        "colab": {
          "base_uri": "https://localhost:8080/"
        },
        "id": "APns6uOyy5Rw",
        "outputId": "cfd49627-eb38-4ad7-8571-8d8cd7005afd"
      },
      "execution_count": null,
      "outputs": [
        {
          "output_type": "stream",
          "name": "stdout",
          "text": [
            "[1, 4, 9, 16, 25]\n"
          ]
        }
      ]
    },
    {
      "cell_type": "code",
      "source": [
        "# Q3 How does the `map()` function differ from a list comprehension in Python, and when would you choose one over the other?\n",
        "\n",
        "\n",
        "\"\"\" The map() function differs from a list comprehension in Python in several ways. A list comprehension is a concise way to\n",
        " create a new list from an existing iterable by applying an expression to each element and optionally filtering the elements\n",
        " by a condition. A list comprehension returns a list, while the map() function returns an iterator. A list comprehension can\n",
        " also use multiple iterables, while the map() function can only use one function. For example, if we want to create a new list\n",
        "  of numbers that are the product of the corresponding elements of two lists, we can use a list comprehension with the zip function: \"\"\"\n",
        "\n",
        "# Define two lists of numbers\n",
        "list1 = [1, 2, 3, 4, 5]\n",
        "list2 = [6, 7, 8, 9, 10]\n",
        "# Use a list comprehension with the zip function to multiply the corresponding elements\n",
        "product = [x * y for x, y in zip(list1, list2)]\n",
        "# Print the new list\n",
        "print(product)\n",
        "\n",
        "\n",
        "\n",
        "\n"
      ],
      "metadata": {
        "colab": {
          "base_uri": "https://localhost:8080/"
        },
        "id": "mjlteXpYzAoW",
        "outputId": "e1383fe3-b153-4c1b-93ab-1838a1a54cc8"
      },
      "execution_count": null,
      "outputs": [
        {
          "output_type": "stream",
          "name": "stdout",
          "text": [
            "[6, 14, 24, 36, 50]\n"
          ]
        }
      ]
    },
    {
      "cell_type": "code",
      "source": [
        "\"\"\"We cannot use the map() function to achieve the same result, as it can only take one\n",
        "function as an argument. However, we can use the map()\n",
        "function with a custom function that takes two arguments and returns their product:\"\"\"\n",
        "\n",
        "# Define two lists of numbers\n",
        "list1 = [1, 2, 3, 4, 5]\n",
        "list2 = [6, 7, 8, 9, 10]\n",
        "# Define a custom function that takes two arguments and returns their product\n",
        "def multiply(x, y):\n",
        "  return x * y\n",
        "# Use the map() function with the custom function and the zip function to multiply the corresponding elements\n",
        "product = map(multiply, list1, list2)\n",
        "# Convert the iterator to a list and print it\n",
        "print(list(product))\n"
      ],
      "metadata": {
        "colab": {
          "base_uri": "https://localhost:8080/"
        },
        "id": "g7cQUzyZzbpS",
        "outputId": "60a6934f-1942-4efc-b4b6-8933f5908121"
      },
      "execution_count": null,
      "outputs": [
        {
          "output_type": "stream",
          "name": "stdout",
          "text": [
            "[6, 14, 24, 36, 50]\n"
          ]
        }
      ]
    },
    {
      "cell_type": "markdown",
      "source": [
        "The choice between the map() function and a list comprehension depends on the situation and preference. Some general guidelines are:\n",
        "\n",
        "* Use a list comprehension if you want to create a new list from an existing iterable by applying a simple expression or condition to each element.\n",
        "\n",
        "* Use the map() function if you want to apply an existing function to each element of an iterable and get an iterator that can be lazily evaluated or converted to another data structure.\n",
        "\n",
        "* Use the map() function if you want to apply a function to elements of multiple iterables simultaneously."
      ],
      "metadata": {
        "id": "xtsFtwLx2EUj"
      }
    },
    {
      "cell_type": "code",
      "source": [
        "# Q4 Create a Python program that uses the `map()` function to convert a list of names to uppercase.\n",
        "\n",
        "# Define a list of names\n",
        "names = [\"Krishna\", \"Rahul\", \"Ram\", \"Rohan\", \"Jay\"]\n",
        "# Use the map() function with the str.upper method to convert each name to uppercase\n",
        "upper = map(str.upper, names)\n",
        "# Convert the iterator to a list and print it\n",
        "print(list(upper))\n"
      ],
      "metadata": {
        "id": "zu74GNGp1kty",
        "colab": {
          "base_uri": "https://localhost:8080/"
        },
        "outputId": "a289044f-66df-4414-d132-a71a94a37a37"
      },
      "execution_count": null,
      "outputs": [
        {
          "output_type": "stream",
          "name": "stdout",
          "text": [
            "['KRISHNA', 'RAHUL', 'RAM', 'ROHAN', 'JAY']\n"
          ]
        }
      ]
    },
    {
      "cell_type": "code",
      "source": [
        "# Q5 Write a Python program that uses the `map()` function to calculate the length of each word in a list of strings.\n",
        "\n",
        "# Define a list of strings\n",
        "words = [\"hello\", \"world\", \"python\", \"programming\", \"fun\"]\n",
        "# Use the map() function with the len function to calculate the length of each word\n",
        "lengths = map(len, words)\n",
        "# Convert the iterator to a list and print it\n",
        "print(list(lengths))\n"
      ],
      "metadata": {
        "colab": {
          "base_uri": "https://localhost:8080/"
        },
        "id": "eEoWrt2x2X99",
        "outputId": "cfb1fad8-e468-4b8d-abd7-1b04322a8807"
      },
      "execution_count": null,
      "outputs": [
        {
          "output_type": "stream",
          "name": "stdout",
          "text": [
            "[5, 5, 6, 11, 3]\n"
          ]
        }
      ]
    },
    {
      "cell_type": "code",
      "source": [
        "# Q6 How can you use the `map()` function to apply a custom function to elements of multiple lists simultaneously in Python?\n",
        "\n",
        "\n",
        "\"\"\" To use the map() function to apply a custom function to elements of multiple lists simultaneously in Python, we can pass\n",
        "the custom function as the first argument and the lists as the remaining arguments to the map() function. The custom function\n",
        "should take as many arguments as the number of lists and return a single value. The map() function will apply the custom function\n",
        "to the corresponding elements of the lists and return an iterator. For example, if we have two lists of numbers and we want to create\n",
        "a new list of numbers that are the sum of the corresponding elements of the two lists, we can use the map() function with a custom function\n",
        "that takes two arguments and returns their sum: \"\"\"\n",
        "\n",
        "# Define two lists of numbers\n",
        "list1 = [1, 2, 3, 4, 5]\n",
        "list2 = [6, 7, 8, 9, 10]\n",
        "# Define a custom function that takes two arguments and returns their sum\n",
        "def add(x, y):\n",
        "  return x + y\n",
        "# Use the map() function with the custom function and the two lists to add the corresponding elements\n",
        "sum = map(add, list1, list2)\n",
        "# Convert the iterator to a list and print it\n",
        "print(list(sum))\n"
      ],
      "metadata": {
        "colab": {
          "base_uri": "https://localhost:8080/"
        },
        "id": "zDoEagRR2tBy",
        "outputId": "6df3e918-a7b0-4189-b598-32662f0b20f0"
      },
      "execution_count": null,
      "outputs": [
        {
          "output_type": "stream",
          "name": "stdout",
          "text": [
            "[7, 9, 11, 13, 15]\n"
          ]
        }
      ]
    },
    {
      "cell_type": "code",
      "source": [
        "# Q7 Create a Python program that uses `map()` to convert a list of temperatures from Celsius to Fahrenheit.\n",
        "\n",
        "# Define a list of temperatures in Celsius\n",
        "celsius = [0, 10, 20, 30, 40, 50]\n",
        "# Define a custom function that takes a temperature in Celsius and returns it in Fahrenheit\n",
        "def celsius_to_fahrenheit(c):\n",
        "  return c * 1.8 + 32\n",
        "# Use the map() function with the custom function and the list of temperatures to convert them to Fahrenheit\n",
        "fahrenheit = map(celsius_to_fahrenheit, celsius)\n",
        "# Convert the iterator to a list and print it\n",
        "print(list(fahrenheit))\n"
      ],
      "metadata": {
        "colab": {
          "base_uri": "https://localhost:8080/"
        },
        "id": "mY72evgg3LzN",
        "outputId": "cb8a601a-ff77-4d02-9508-386377975b1d"
      },
      "execution_count": null,
      "outputs": [
        {
          "output_type": "stream",
          "name": "stdout",
          "text": [
            "[32.0, 50.0, 68.0, 86.0, 104.0, 122.0]\n"
          ]
        }
      ]
    },
    {
      "cell_type": "code",
      "source": [
        "# Q8 Write a Python program that uses the `map()` function to round each element of a list of floating-point numbers to the nearest integer.\n",
        "\n",
        "# Define a list of floating-point numbers\n",
        "numbers = [1.2, 3.4, 5.6, 7.8, 9.0]\n",
        "# Use the map() function with the round function to round each number to the nearest integer\n",
        "rounded = map(round, numbers)\n",
        "# Convert the iterator to a list and print it\n",
        "print(list(rounded))\n",
        "\n",
        "\n"
      ],
      "metadata": {
        "colab": {
          "base_uri": "https://localhost:8080/"
        },
        "id": "jsqUWj_c3auH",
        "outputId": "e212b84e-2405-42f9-af5a-f68b146e2aa5"
      },
      "execution_count": null,
      "outputs": [
        {
          "output_type": "stream",
          "name": "stdout",
          "text": [
            "[1, 3, 6, 8, 9]\n"
          ]
        }
      ]
    },
    {
      "cell_type": "markdown",
      "source": [
        "# **Reduce :-**\n"
      ],
      "metadata": {
        "id": "yF21kQge4XvA"
      }
    },
    {
      "cell_type": "code",
      "source": [
        "# Q1 What is the `reduce()` function in Python, and what module should you import to use it? Provide an example of its basic usage.\n",
        "\n",
        "\"\"\" The reduce() function in Python is a built-in function that takes a function and an iterable (such as a list, tuple, or string)\n",
        "as arguments and returns a single value that is the result of applying the function to the elements of the iterable from left to right.\n",
        " The function should take two arguments and return one value. For example, if we have a list of numbers and we want to find their sum,\n",
        " we can use the reduce() function with a lambda function that adds two numbers: \"\"\"\n",
        "\n",
        "# Import the reduce function from the functools module\n",
        "from functools import reduce\n",
        "# Define a list of numbers\n",
        "numbers = [1, 2, 3, 4, 5]\n",
        "# Use the reduce() function with a lambda function to add two numbers\n",
        "sum = reduce(lambda x, y: x + y, numbers)\n",
        "# Print the result\n",
        "print(sum)\n",
        "\n",
        "\n"
      ],
      "metadata": {
        "colab": {
          "base_uri": "https://localhost:8080/"
        },
        "id": "STCuEiJG3jPQ",
        "outputId": "e9e1ed6e-1ff0-485e-aa51-4c092e4d9432"
      },
      "execution_count": null,
      "outputs": [
        {
          "output_type": "stream",
          "name": "stdout",
          "text": [
            "15\n"
          ]
        }
      ]
    },
    {
      "cell_type": "code",
      "source": [
        "# Q2 Write a Python program that uses the `reduce()` function to find the product of all elements in a list.\n",
        "\n",
        "# Import the reduce function from the functools module\n",
        "from functools import reduce\n",
        "# Define a list of numbers\n",
        "numbers = [1, 2, 3, 4, 5]\n",
        "# Use the reduce() function with a lambda function to multiply two numbers\n",
        "product = reduce(lambda x, y: x * y, numbers)\n",
        "# Print the result\n",
        "print(product)\n"
      ],
      "metadata": {
        "colab": {
          "base_uri": "https://localhost:8080/"
        },
        "id": "CPFqUl6IXAfM",
        "outputId": "f960fdf0-e054-4885-c348-0bd0f2fa7b6d"
      },
      "execution_count": null,
      "outputs": [
        {
          "output_type": "stream",
          "name": "stdout",
          "text": [
            "120\n"
          ]
        }
      ]
    },
    {
      "cell_type": "code",
      "source": [
        "# Q3 Create a Python program that uses `reduce()` to find the maximum element in a list of numbers.\n",
        "\n",
        "# Import the reduce function from the functools module\n",
        "from functools import reduce\n",
        "# Define a list of numbers\n",
        "numbers = [1, 2, 3, 4, 5]\n",
        "# Use the reduce() function with a lambda function to compare two numbers and return the larger one\n",
        "maximum = reduce(lambda x, y: x if x > y else y, numbers)\n",
        "# Print the result\n",
        "print(maximum)\n"
      ],
      "metadata": {
        "colab": {
          "base_uri": "https://localhost:8080/"
        },
        "id": "SoAmccuvYEd9",
        "outputId": "735be6d5-389a-494d-95e6-39e306ae310a"
      },
      "execution_count": null,
      "outputs": [
        {
          "output_type": "stream",
          "name": "stdout",
          "text": [
            "5\n"
          ]
        }
      ]
    },
    {
      "cell_type": "code",
      "source": [
        "# Q4 How can you use the `reduce()` function to concatenate a list of strings into a single string?\n",
        "\n",
        "# Import the reduce function from the functools module\n",
        "from functools import reduce\n",
        "# Define a list of strings\n",
        "strings = [\"Hello\", \" \", \"world\", \"!\"]\n",
        "# Use the reduce() function with a lambda function to concatenate two strings\n",
        "concatenated = reduce(lambda x, y: x + y, strings)\n",
        "# Print the result\n",
        "print(concatenated)\n"
      ],
      "metadata": {
        "colab": {
          "base_uri": "https://localhost:8080/"
        },
        "id": "8jVp_ojZEIGE",
        "outputId": "88181d2c-8b37-427f-83dd-f736da6f3455"
      },
      "execution_count": null,
      "outputs": [
        {
          "output_type": "stream",
          "name": "stdout",
          "text": [
            "Hello world!\n"
          ]
        }
      ]
    },
    {
      "cell_type": "code",
      "source": [
        "# Q5 Write a Python program that calculates the factorial of a number using the `reduce()` function.\n",
        "\n",
        "# Import the reduce function from the functools module\n",
        "from functools import reduce\n",
        "# Ask the user to enter a number\n",
        "n = int(input(\"Enter a number: \"))\n",
        "# Use the reduce() function with a lambda function to multiply the numbers from 1 to n\n",
        "factorial = reduce(lambda x, y: x * y, range(1, n + 1))\n",
        "# Print the result\n",
        "print(factorial)\n"
      ],
      "metadata": {
        "colab": {
          "base_uri": "https://localhost:8080/"
        },
        "id": "UFMZgBKdEZtY",
        "outputId": "3d8dc294-11b8-4ba5-b3c6-472601e00cda"
      },
      "execution_count": null,
      "outputs": [
        {
          "output_type": "stream",
          "name": "stdout",
          "text": [
            "Enter a number: 7\n",
            "5040\n"
          ]
        }
      ]
    },
    {
      "cell_type": "code",
      "source": [
        "# Q6 Create a Python program that uses `reduce()` to find the GCD (Greatest Common Divisor) of a list of numbers.\n",
        "\n",
        "# Import the reduce function from the functools module\n",
        "from functools import reduce\n",
        "# Define a list of numbers\n",
        "numbers = [12, 18, 24, 30]\n",
        "# Define a custom function that takes two numbers and returns their GCD\n",
        "def gcd(x, y):\n",
        "  # Use the Euclidean algorithm to find the GCD\n",
        "  while y != 0:\n",
        "    x, y = y, x % y\n",
        "  return x\n",
        "# Use the reduce() function with the custom function to find the GCD of the list of numbers\n",
        "gcd_list = reduce(gcd, numbers)\n",
        "# Print the result\n",
        "print(gcd_list)\n"
      ],
      "metadata": {
        "colab": {
          "base_uri": "https://localhost:8080/"
        },
        "id": "3L1nkj5TEr0D",
        "outputId": "c1e60d74-4ec3-42da-c1ef-747bfb64a232"
      },
      "execution_count": null,
      "outputs": [
        {
          "output_type": "stream",
          "name": "stdout",
          "text": [
            "6\n"
          ]
        }
      ]
    },
    {
      "cell_type": "code",
      "source": [
        "# Q7 Write a Python program that uses the `reduce()` function to find the sum of the digits of a given number.\n",
        "\n",
        "# Import the reduce function from the functools module\n",
        "from functools import reduce\n",
        "# Ask the user to enter a number\n",
        "n = int(input(\"Enter a number: \"))\n",
        "# Convert the number to a string and split it into a list of digits\n",
        "digits = list(str(n))\n",
        "# Use the reduce() function with a lambda function to add the digits as integers\n",
        "sum_digits = reduce(lambda x, y: int(x) + int(y), digits)\n",
        "# Print the result\n",
        "print(sum_digits)\n"
      ],
      "metadata": {
        "colab": {
          "base_uri": "https://localhost:8080/"
        },
        "id": "wTu9SvKIE67G",
        "outputId": "a7a8356c-1d24-4db0-ee4e-3f0b0bcd0c48"
      },
      "execution_count": null,
      "outputs": [
        {
          "output_type": "stream",
          "name": "stdout",
          "text": [
            "Enter a number: 4444\n",
            "16\n"
          ]
        }
      ]
    },
    {
      "cell_type": "markdown",
      "source": [
        "# **Filter :-**\n"
      ],
      "metadata": {
        "id": "7udZp_AYlQ1A"
      }
    },
    {
      "cell_type": "code",
      "source": [
        "# Q1 Explain the purpose of the `filter()` function in Python and provide an example of how it can be used to filter elements from an iterable.\n",
        "\n",
        "\"\"\" The filter() function in Python is used to filter out elements from an iterable (such as a list, a tuple, a dictionary, etc.) that satisfy\n",
        "a certain condition. The function takes two arguments: a function that returns a boolean value, and an iterable. The function applies the boolean\n",
        "function to each element of the iterable, and returns a new iterable with only the elements that returned True.\n",
        "\n",
        "For example, suppose we have a list of numbers, and we want to filter out the odd numbers. We can define a function that checks if a number is even,\n",
        "and use it as the first argument of the filter() function. The second argument is the list of numbers. The filter() function will return a new iterable\n",
        "with only the even numbers. \"\"\"\n",
        "\n",
        "# Define a function that checks if a number is even\n",
        "def is_even(n):\n",
        "    return n % 2 == 0\n",
        "\n",
        "# Define a list of numbers\n",
        "numbers = [1, 2, 3, 4, 5, 6, 7, 8, 9, 10]\n",
        "\n",
        "# Use the filter() function to filter out the odd numbers\n",
        "even_numbers = filter(is_even, numbers)\n",
        "\n",
        "# Convert the filter object to a list\n",
        "even_numbers = list(even_numbers)\n",
        "\n",
        "# Print the result\n",
        "print(even_numbers)\n",
        "\n"
      ],
      "metadata": {
        "id": "t4J2_lPOFDtE",
        "colab": {
          "base_uri": "https://localhost:8080/"
        },
        "outputId": "c8dd5ee9-31a9-4803-f694-1b93e903168b"
      },
      "execution_count": null,
      "outputs": [
        {
          "output_type": "stream",
          "name": "stdout",
          "text": [
            "[2, 4, 6, 8, 10]\n"
          ]
        }
      ]
    },
    {
      "cell_type": "code",
      "source": [
        "# Q2 Write a Python program that uses the `filter()` function to select even numbers from a list of integers.\n",
        "\n",
        "# Define a list of integers\n",
        "integers = [12, 34, 56, 78, 91, 15, 24, 39, 48, 67]\n",
        "\n",
        "# Use the filter() function to select even numbers\n",
        "even_integers = filter(lambda x: x % 2 == 0, integers)\n",
        "\n",
        "# Convert the filter object to a list\n",
        "even_integers = list(even_integers)\n",
        "\n",
        "# Print the result\n",
        "print(even_integers)\n"
      ],
      "metadata": {
        "colab": {
          "base_uri": "https://localhost:8080/"
        },
        "id": "4tpJz2aEoOev",
        "outputId": "ec99011f-a800-41f0-ff17-bb692911ebd5"
      },
      "execution_count": null,
      "outputs": [
        {
          "output_type": "stream",
          "name": "stdout",
          "text": [
            "[12, 34, 56, 78, 24, 48]\n"
          ]
        }
      ]
    },
    {
      "cell_type": "code",
      "source": [
        "# Q3 Create a Python program that uses the `filter()` function to select names that start with a specific letter from a list of strings.\n",
        "\n",
        "# Define a list of names\n",
        "names = [\"Alice\", \"Bob\", \"Charlie\", \"David\", \"Eve\", \"Frank\", \"Grace\", \"Henry\", \"Iris\", \"Jack\"]\n",
        "\n",
        "# Define the letter to filter by\n",
        "letter = \"A\"\n",
        "\n",
        "# Use the filter() function to select names that start with the letter\n",
        "names_with_letter = filter(lambda x: x.startswith(letter), names)\n",
        "\n",
        "# Convert the filter object to a list\n",
        "names_with_letter = list(names_with_letter)\n",
        "\n",
        "# Print the result\n",
        "print(names_with_letter)\n"
      ],
      "metadata": {
        "colab": {
          "base_uri": "https://localhost:8080/"
        },
        "id": "9TW6YeoNogww",
        "outputId": "967f032a-2cfa-43ba-a0b7-fd7860f4916c"
      },
      "execution_count": null,
      "outputs": [
        {
          "output_type": "stream",
          "name": "stdout",
          "text": [
            "['Alice']\n"
          ]
        }
      ]
    },
    {
      "cell_type": "code",
      "source": [
        "# Q4 Write a Python program that uses the `filter()` function to select prime numbers from a list of integers\n",
        "\n",
        "# Define a function that checks if a number is prime\n",
        "def is_prime(n):\n",
        "    # Assume n is a positive integer\n",
        "    # 0 and 1 are not prime\n",
        "    if n < 2:\n",
        "        return False\n",
        "    # 2 is the only even prime\n",
        "    if n == 2:\n",
        "        return True\n",
        "    # Check if n is divisible by any odd number from 3 to sqrt(n)\n",
        "    for i in range(3, int(n**0.5) + 1, 2):\n",
        "        if n % i == 0:\n",
        "            return False\n",
        "    # If no divisor is found, n is prime\n",
        "    return True\n",
        "\n",
        "# Define a list of integers\n",
        "integers = [2, 3, 5, 7, 11, 13, 17, 19, 23, 29, 31, 37, 41, 43, 47]\n",
        "\n",
        "# Use the filter() function to select prime numbers\n",
        "prime_numbers = filter(is_prime, integers)\n",
        "\n",
        "# Convert the filter object to a list\n",
        "prime_numbers = list(prime_numbers)\n",
        "\n",
        "# Print the result\n",
        "print(prime_numbers)\n"
      ],
      "metadata": {
        "colab": {
          "base_uri": "https://localhost:8080/"
        },
        "id": "BGRV4dF6ooIc",
        "outputId": "1a625ce4-f0db-4079-b872-bee832657166"
      },
      "execution_count": null,
      "outputs": [
        {
          "output_type": "stream",
          "name": "stdout",
          "text": [
            "[2, 3, 5, 7, 11, 13, 17, 19, 23, 29, 31, 37, 41, 43, 47]\n"
          ]
        }
      ]
    },
    {
      "cell_type": "code",
      "source": [
        "# Q5 How can you use the `filter()` function to remove None values from a list in Python?\n",
        "\n",
        "\"\"\" we can use the filter() function to remove None values from a list in Python by using the\n",
        " identity function as the first argument. The identity function is a function that returns its argument unchanged.\n",
        " In Python, we can use the built-in function bool as the identity function, since it returns True for any value that\n",
        " is not None or False. The filter() function will then return a new iterable with only the values that are not None.\n",
        "\n",
        "For example, suppose we have a list that contains some None values, and we want to remove them. We can use the filter()\n",
        " function with the bool function as the first argument, and the list as the second argument. The filter() function will\n",
        "  return a new iterable with only the values that are not None.\"\"\"\n",
        "\n",
        "# Define a list that contains some None values\n",
        "my_list = [1, None, 2, None, 3, None, 4, None, 5]\n",
        "\n",
        "# Use the filter() function to remove None values\n",
        "my_list_without_none = filter(bool, my_list)\n",
        "\n",
        "# Convert the filter object to a list\n",
        "my_list_without_none = list(my_list_without_none)\n",
        "\n",
        "# Print the result\n",
        "print(my_list_without_none)\n",
        "\n"
      ],
      "metadata": {
        "colab": {
          "base_uri": "https://localhost:8080/"
        },
        "id": "s91IuIsjoxfP",
        "outputId": "40e736d5-0bac-42c1-a4af-a3f2a2f90389"
      },
      "execution_count": null,
      "outputs": [
        {
          "output_type": "stream",
          "name": "stdout",
          "text": [
            "[1, 2, 3, 4, 5]\n"
          ]
        }
      ]
    },
    {
      "cell_type": "code",
      "source": [
        "# Q6 Create a Python program that uses `filter()` to select words longer than a certain length from a list of strings.\n",
        "\n",
        "# Define a list of words\n",
        "words = [\"apple\", \"banana\", \"cherry\", \"date\", \"elderberry\", \"fig\", \"grape\", \"honeydew\", \"iceberg\", \"jackfruit\"]\n",
        "\n",
        "# Define the minimum length to filter by\n",
        "min_length = 5\n",
        "\n",
        "# Use the filter() function to select words longer than the minimum length\n",
        "long_words = filter(lambda x: len(x) > min_length, words)\n",
        "\n",
        "# Convert the filter object to a list\n",
        "long_words = list(long_words)\n",
        "\n",
        "# Print the result\n",
        "print(long_words)\n"
      ],
      "metadata": {
        "colab": {
          "base_uri": "https://localhost:8080/"
        },
        "id": "TT8f8uQYpRQd",
        "outputId": "7d1c4675-24ac-4f0f-c5e9-fa8ce34e0e50"
      },
      "execution_count": null,
      "outputs": [
        {
          "output_type": "stream",
          "name": "stdout",
          "text": [
            "['banana', 'cherry', 'elderberry', 'honeydew', 'iceberg', 'jackfruit']\n"
          ]
        }
      ]
    },
    {
      "cell_type": "code",
      "source": [
        "# Q7 Write a Python program that uses the `filter()` function to select elements greater than a specified threshold from a list of values.\n",
        "\n",
        "# Define a list of values\n",
        "values = [12.5, 34.7, 56.9, 78.1, 91.3, 15.4, 24.6, 39.8, 48.0, 67.2]\n",
        "\n",
        "# Define the threshold to filter by\n",
        "threshold = 50\n",
        "\n",
        "# Use the filter() function to select elements greater than the threshold\n",
        "values_above_threshold = filter(lambda x: x > threshold, values)\n",
        "\n",
        "# Convert the filter object to a list\n",
        "values_above_threshold = list(values_above_threshold)\n",
        "\n",
        "# Print the result\n",
        "print(values_above_threshold)\n"
      ],
      "metadata": {
        "colab": {
          "base_uri": "https://localhost:8080/"
        },
        "id": "rLm8O7iUpY9u",
        "outputId": "dfb1ed22-a511-489a-e3cc-0e3a5636dac8"
      },
      "execution_count": null,
      "outputs": [
        {
          "output_type": "stream",
          "name": "stdout",
          "text": [
            "[56.9, 78.1, 91.3, 67.2]\n"
          ]
        }
      ]
    },
    {
      "cell_type": "markdown",
      "source": [
        "# **Recursion:-**\n"
      ],
      "metadata": {
        "id": "bqEBaHQEpptY"
      }
    },
    {
      "cell_type": "code",
      "source": [
        "# Q1 Explain the concept of recursion in Python. How does it differ from iteration?\n",
        "\"\"\" Recursion is a technique of defining a function that calls itself repeatedly until\n",
        "a base case is reached. It differs from iteration, which is a technique of using a loop\n",
        "to repeat a block of code until a condition is met. Recursion can be useful for solving\n",
        "problems that have a recursive structure, such as fractals, tree traversal, or backtracking.\n",
        "However, recursion can also be inefficient and cause a stack overflow error if the recursive\n",
        "calls are too deep or not terminated properly. \"\"\"\n",
        "\n",
        "# here is the example:-\n",
        "\n",
        "# Define a recursive function to calculate the factorial of a number\n",
        "def factorial(n):\n",
        "    # Base case: if n is 0 or 1, return 1\n",
        "    if n == 0 or n == 1:\n",
        "        return 1\n",
        "    # Recursive case: if n is greater than 1, return n times the factorial of n-1\n",
        "    else:\n",
        "        return n * factorial(n-1)\n",
        "\n",
        "# Test the function with some examples\n",
        "print(factorial(5)) # 120\n",
        "print(factorial(10)) # 3628800\n"
      ],
      "metadata": {
        "id": "mp0ahoZVplhX",
        "colab": {
          "base_uri": "https://localhost:8080/"
        },
        "outputId": "d4c9ae78-f373-4d7f-d4db-77aa1ecc5a8d"
      },
      "execution_count": null,
      "outputs": [
        {
          "output_type": "stream",
          "name": "stdout",
          "text": [
            "120\n",
            "3628800\n"
          ]
        }
      ]
    },
    {
      "cell_type": "code",
      "source": [
        "# Q2 Write a Python program to calculate the factorial of a number using recursion.\n",
        "# Define a recursive function to calculate the factorial of a number\n",
        "def factorial(n):\n",
        "    # Base case: if n is 0 or 1, return 1\n",
        "    if n == 0 or n == 1:\n",
        "        return 1\n",
        "    # Recursive case: if n is greater than 1, return n times the factorial of n-1\n",
        "    else:\n",
        "        return n * factorial(n-1)\n",
        "\n",
        "# Test the function with some examples\n",
        "print(factorial(5)) # 120\n",
        "print(factorial(10)) # 3628800\n"
      ],
      "metadata": {
        "colab": {
          "base_uri": "https://localhost:8080/"
        },
        "id": "gWXWSkc_FbjR",
        "outputId": "c449939a-2fa8-4a50-8c0f-c12ff97fc3f6"
      },
      "execution_count": null,
      "outputs": [
        {
          "output_type": "stream",
          "name": "stdout",
          "text": [
            "120\n",
            "3628800\n"
          ]
        }
      ]
    },
    {
      "cell_type": "code",
      "source": [
        "# Q3 Create a recursive Python function to find the nth Fibonacci number.\n",
        "\n",
        "# Define a recursive function to find the nth Fibonacci number\n",
        "def fibonacci(n):\n",
        "    # Base case: if n is 0 or 1, return n\n",
        "    if n == 0 or n == 1:\n",
        "        return n\n",
        "    # Recursive case: if n is greater than 1, return the sum of the previous two Fibonacci numbers\n",
        "    else:\n",
        "        return fibonacci(n-1) + fibonacci(n-2)\n",
        "\n",
        "# Test the function with some examples\n",
        "print(fibonacci(5)) # 5\n",
        "print(fibonacci(10)) # 55\n"
      ],
      "metadata": {
        "colab": {
          "base_uri": "https://localhost:8080/"
        },
        "id": "_C3QNkPSFrEN",
        "outputId": "d43f5a18-6c52-48d5-ba1a-320da791d53f"
      },
      "execution_count": null,
      "outputs": [
        {
          "output_type": "stream",
          "name": "stdout",
          "text": [
            "5\n",
            "55\n"
          ]
        }
      ]
    },
    {
      "cell_type": "code",
      "source": [
        "# Q4 Write a recursive Python function to calculate the sum of all elements in a list.\n",
        "\n",
        "# Define a recursive function to calculate the sum of all elements in a list\n",
        "def list_sum(lst):\n",
        "    # Base case: if the list is empty, return 0\n",
        "    if len(lst) == 0:\n",
        "        return 0\n",
        "    # Recursive case: if the list is not empty, return the first element plus the sum of the rest of the list\n",
        "    else:\n",
        "        return lst[0] + list_sum(lst[1:])\n",
        "\n",
        "# Test the function with some examples\n",
        "print(list_sum([1, 2, 3, 4, 5])) # 15\n",
        "print(list_sum([10, 20, 30])) # 60\n"
      ],
      "metadata": {
        "colab": {
          "base_uri": "https://localhost:8080/"
        },
        "id": "iHqHpt8tF2WW",
        "outputId": "1d9471e3-f369-4fc9-99e4-10659416ee60"
      },
      "execution_count": null,
      "outputs": [
        {
          "output_type": "stream",
          "name": "stdout",
          "text": [
            "15\n",
            "60\n"
          ]
        }
      ]
    },
    {
      "cell_type": "code",
      "source": [
        "# Q5 How can you prevent a recursive function from running indefinitely, causing a stack overflow error?\n",
        "\"\"\" To prevent a recursive function from running indefinitely, causing a stack overflow error, we need to\n",
        " ensure that the function has a base case that will stop the recursion when a certain condition is met. We\n",
        " also need to make sure that the recursive case will eventually lead to the base case, by reducing the problem\n",
        " size or changing the parameters in each recursive call. Additionally, we can use a try-except block to catch any\n",
        "  RecursionError exceptions and handle them gracefully. For example: \"\"\"\n",
        "\n",
        "  # Define a recursive function to calculate the power of a number\n",
        "def power(x, n):\n",
        "    # Base case: if n is 0, return 1\n",
        "    if n == 0:\n",
        "        return 1\n",
        "    # Recursive case: if n is positive, return x times the power of x to the n-1\n",
        "    elif n > 0:\n",
        "        return x * power(x, n-1)\n",
        "    # Recursive case: if n is negative, return 1 over the power of x to the -n\n",
        "    else:\n",
        "        return 1 / power(x, -n)\n",
        "\n",
        "# Test the function with some examples\n",
        "try:\n",
        "    print(power(2, 3)) # 8\n",
        "    print(power(2, -3)) # 0.125\n",
        "    print(power(2, 1000)) # RecursionError\n",
        "except RecursionError:\n",
        "    print(\"The recursion depth exceeded the limit.\")\n"
      ],
      "metadata": {
        "colab": {
          "base_uri": "https://localhost:8080/"
        },
        "id": "aI5VIHtoG-X3",
        "outputId": "52c6ac8c-02b7-4de5-d5bd-3ceeef9d337c"
      },
      "execution_count": null,
      "outputs": [
        {
          "output_type": "stream",
          "name": "stdout",
          "text": [
            "8\n",
            "0.125\n",
            "The recursion depth exceeded the limit.\n"
          ]
        }
      ]
    },
    {
      "cell_type": "code",
      "source": [
        "# Q6 Create a recursive Python function to find the greatest common divisor (GCD) of two numbers using the Euclidean algorithm.\n",
        "\n",
        "# Define a recursive function to find the GCD of two numbers\n",
        "def gcd(a, b):\n",
        "    # Base case: if b is 0, return a\n",
        "    if b == 0:\n",
        "        return a\n",
        "    # Recursive case: if b is not 0, return the GCD of b and the remainder of a divided by b\n",
        "    else:\n",
        "        return gcd(b, a % b)\n",
        "\n",
        "# Test the function with some examples\n",
        "print(gcd(12, 18)) # 6\n",
        "print(gcd(60, 48)) # 12\n"
      ],
      "metadata": {
        "colab": {
          "base_uri": "https://localhost:8080/"
        },
        "id": "HAizRz9QHR9R",
        "outputId": "2ebaffe8-e2e4-4567-fe34-fc797bfb9671"
      },
      "execution_count": null,
      "outputs": [
        {
          "output_type": "stream",
          "name": "stdout",
          "text": [
            "6\n",
            "12\n"
          ]
        }
      ]
    },
    {
      "cell_type": "code",
      "source": [
        "# Q7 Write a recursive Python function to reverse a string.\n",
        "\n",
        "# Define a recursive function to reverse a string\n",
        "def reverse_string(s):\n",
        "    # Base case: if the string is empty, return the empty string\n",
        "    if s == \"\":\n",
        "        return s\n",
        "    # Recursive case: if the string is not empty, return the last character plus the reverse of the rest of the string\n",
        "    else:\n",
        "        return s[-1] + reverse_string(s[:-1])\n",
        "\n",
        "# Test the function with some examples\n",
        "print(reverse_string(\"hello\")) # olleh\n",
        "print(reverse_string(\"python\")) # nohtyp\n"
      ],
      "metadata": {
        "colab": {
          "base_uri": "https://localhost:8080/"
        },
        "id": "Buk0G-hBHeZU",
        "outputId": "26b99f10-7b9f-4f12-adad-bd51cab4fdef"
      },
      "execution_count": null,
      "outputs": [
        {
          "output_type": "stream",
          "name": "stdout",
          "text": [
            "olleh\n",
            "nohtyp\n"
          ]
        }
      ]
    },
    {
      "cell_type": "code",
      "source": [
        "# Q8 Create a recursive Python function to calculate the power of a number (x^n).\n",
        "\n",
        "# Define a recursive function to calculate the power of a number\n",
        "def power(x, n):\n",
        "    # Base case: if n is 0, return 1\n",
        "    if n == 0:\n",
        "        return 1\n",
        "    # Recursive case: if n is positive, return x times the power of x to the n-1\n",
        "    elif n > 0:\n",
        "        return x * power(x, n-1)\n",
        "    # Recursive case: if n is negative, return 1 over the power of x to the -n\n",
        "    else:\n",
        "        return 1 / power(x, -n)\n",
        "\n",
        "# Test the function with some examples\n",
        "print(power(2, 3)) # 8\n",
        "print(power(2, -3)) # 0.125\n",
        "print(power(3, 4)) # 81\n"
      ],
      "metadata": {
        "colab": {
          "base_uri": "https://localhost:8080/"
        },
        "id": "Z2fxESdUHmhV",
        "outputId": "e0081c02-5f54-45d8-8376-edcebb6df8b9"
      },
      "execution_count": null,
      "outputs": [
        {
          "output_type": "stream",
          "name": "stdout",
          "text": [
            "8\n",
            "0.125\n",
            "81\n"
          ]
        }
      ]
    },
    {
      "cell_type": "code",
      "source": [
        "# Q9 Write a recursive Python function to find all permutations of a given string.\n",
        "\n",
        "# Define a recursive function to find all permutations of a string\n",
        "def permutations(s):\n",
        "    # Base case: if the string is empty, return an empty list\n",
        "    if s == \"\":\n",
        "        return []\n",
        "    # Base case: if the string has only one character, return a list containing the string\n",
        "    elif len(s) == 1:\n",
        "        return [s]\n",
        "    # Recursive case: if the string has more than one character, loop through each character\n",
        "    else:\n",
        "        result = []\n",
        "        for i, c in enumerate(s):\n",
        "            # Fix the current character and recursively find the permutations of the remaining characters\n",
        "            for perm in permutations(s[:i] + s[i+1:]):\n",
        "                # Add the current character to the beginning of each permutation\n",
        "                result.append(c + perm)\n",
        "        # Return the list of permutations\n",
        "        return result\n",
        "\n",
        "# Test the function with some examples\n",
        "print(permutations(\"abc\")) # ['abc', 'acb', 'bac', 'bca', 'cab', 'cba']\n",
        "print(permutations(\"dog\")) # ['dog', 'dgo', 'odg', 'ogd', 'gdo', 'god']\n"
      ],
      "metadata": {
        "colab": {
          "base_uri": "https://localhost:8080/"
        },
        "id": "Jr6Yw3dYIByX",
        "outputId": "ca6bfab8-99ab-4294-db64-512064d23e99"
      },
      "execution_count": null,
      "outputs": [
        {
          "output_type": "stream",
          "name": "stdout",
          "text": [
            "['abc', 'acb', 'bac', 'bca', 'cab', 'cba']\n",
            "['dog', 'dgo', 'odg', 'ogd', 'gdo', 'god']\n"
          ]
        }
      ]
    },
    {
      "cell_type": "code",
      "source": [
        "# Q10 Write a recursive Python function to check if a string is a palindrome.\n",
        "\n",
        "# Define a recursive function to check if a string is a palindrome\n",
        "def is_palindrome(s):\n",
        "    # Base case: if the string is empty or has only one character, return True\n",
        "    if s == \"\" or len(s) == 1:\n",
        "        return True\n",
        "    # Base case: if the first and last characters are not equal, return False\n",
        "    elif s[0] != s[-1]:\n",
        "        return False\n",
        "    # Recursive case: if the first and last characters are equal, check the substring between them\n",
        "    else:\n",
        "        return is_palindrome(s[1:-1])\n",
        "\n",
        "# Test the function with some examples\n",
        "print(is_palindrome(\"racecar\")) # True\n",
        "print(is_palindrome(\"madam\")) # True\n",
        "print(is_palindrome(\"python\")) # False\n"
      ],
      "metadata": {
        "colab": {
          "base_uri": "https://localhost:8080/"
        },
        "id": "Xe_tt4fdILDp",
        "outputId": "50e03cd7-7a3f-4000-a14a-360e86d54589"
      },
      "execution_count": null,
      "outputs": [
        {
          "output_type": "stream",
          "name": "stdout",
          "text": [
            "True\n",
            "True\n",
            "False\n"
          ]
        }
      ]
    },
    {
      "cell_type": "code",
      "source": [
        "# Q11 Create a recursive Python function to generate all possible combinations of a list of elements.\n",
        "\n",
        "# Define a recursive function to generate all possible combinations of a list of elements\n",
        "def combinations(lst):\n",
        "    # Base case: if the list is empty, return a list containing an empty list\n",
        "    if len(lst) == 0:\n",
        "        return [[]]\n",
        "    # Recursive case: if the list is not empty, loop through each element\n",
        "    else:\n",
        "        result = []\n",
        "        for i, e in enumerate(lst):\n",
        "            # Exclude the current element and recursively find the combinations of the remaining elements\n",
        "            for comb in combinations(lst[:i] + lst[i+1:]):\n",
        "                # Add the current element to the beginning of each combination\n",
        "                result.append([e] + comb)\n",
        "                # Add the combination without the current element\n",
        "                result.append(comb)\n",
        "        # Return the list of combinations\n",
        "        return result\n",
        "\n",
        "# Test the function with some examples\n",
        "print(combinations([1, 2, 3])) # [[1, 2, 3], [2, 3], [1, 3], [3], [1, 2], [2], [1], []]\n",
        "print(combinations([\"a\", \"b\", \"c\"])) # [['a', 'b', 'c'], ['b', 'c"
      ],
      "metadata": {
        "colab": {
          "base_uri": "https://localhost:8080/"
        },
        "id": "fAVtj4rdITJC",
        "outputId": "69cde1f5-4710-4a3b-fc01-86c06bd99c22"
      },
      "execution_count": null,
      "outputs": [
        {
          "output_type": "stream",
          "name": "stdout",
          "text": [
            "[[1, 2, 3], [2, 3], [1, 3], [3], [1, 2], [2], [1], [], [1, 3, 2], [3, 2], [1, 2], [2], [1, 3], [3], [1], [], [2, 1, 3], [1, 3], [2, 3], [3], [2, 1], [1], [2], [], [2, 3, 1], [3, 1], [2, 1], [1], [2, 3], [3], [2], [], [3, 1, 2], [1, 2], [3, 2], [2], [3, 1], [1], [3], [], [3, 2, 1], [2, 1], [3, 1], [1], [3, 2], [2], [3], []]\n",
            "[['a', 'b', 'c'], ['b', 'c'], ['a', 'c'], ['c'], ['a', 'b'], ['b'], ['a'], [], ['a', 'c', 'b'], ['c', 'b'], ['a', 'b'], ['b'], ['a', 'c'], ['c'], ['a'], [], ['b', 'a', 'c'], ['a', 'c'], ['b', 'c'], ['c'], ['b', 'a'], ['a'], ['b'], [], ['b', 'c', 'a'], ['c', 'a'], ['b', 'a'], ['a'], ['b', 'c'], ['c'], ['b'], [], ['c', 'a', 'b'], ['a', 'b'], ['c', 'b'], ['b'], ['c', 'a'], ['a'], ['c'], [], ['c', 'b', 'a'], ['b', 'a'], ['c', 'a'], ['a'], ['c', 'b'], ['b'], ['c'], []]\n"
          ]
        }
      ]
    },
    {
      "cell_type": "markdown",
      "source": [
        "# **Basics of Functions:**\n"
      ],
      "metadata": {
        "id": "5K4qBIn4Ifq4"
      }
    },
    {
      "cell_type": "code",
      "source": [
        "# Q1 What is a function in Python, and why is it used?\n",
        "\n",
        "\"\"\" A function in Python is a block of code that performs a\n",
        " specific task and can be reused in different parts of the program.\n",
        "  A function can take input arguments and return a value or perform some action.\n",
        "  Functions are useful for breaking down complex problems into smaller and simpler parts,\n",
        "   avoiding repetition of code, and improving readability and maintainability of the code \"\"\"\n",
        "\n"
      ],
      "metadata": {
        "colab": {
          "base_uri": "https://localhost:8080/",
          "height": 70
        },
        "id": "PT0ZRuH6IbLP",
        "outputId": "b997aea7-c429-4fd7-8cb4-b430442770c0"
      },
      "execution_count": null,
      "outputs": [
        {
          "output_type": "execute_result",
          "data": {
            "text/plain": [
              "' A function in Python is a block of code that performs a\\n specific task and can be reused in different parts of the program.\\n  A function can take input arguments and return a value or perform some action. \\n  Functions are useful for breaking down complex problems into smaller and simpler parts,\\n   avoiding repetition of code, and improving readability and maintainability of the code '"
            ],
            "application/vnd.google.colaboratory.intrinsic+json": {
              "type": "string"
            }
          },
          "metadata": {},
          "execution_count": 12
        }
      ]
    },
    {
      "cell_type": "code",
      "source": [
        "# Q2 How do you define a function in Python? Provide an example.\n",
        "\n",
        "\"\"\" To define a function in Python, you use the def keyword followed\n",
        "by the name of the function and parentheses. If the function takes any\n",
        "arguments, they are included within the parentheses. Then, you use a colon\n",
        "(:) to indicate the start of the function body, which contains the statements\n",
        "that the function will execute. The function body must be indented. Optionally,\n",
        "you can include a docstring that describes the purpose and usage of the function.\n",
        "To return a value from the function, you use the return keyword followed by the expression\n",
        "  to be returned. For example, the following is a function that takes two numbers as arguments\n",
        "  and returns their sum: \"\"\"\n",
        "\n",
        "def add (a, b):\n",
        "    \"\"\"Return the sum of two numbers.\"\"\"\n",
        "    return a + b\n"
      ],
      "metadata": {
        "id": "NVroztmEJeMD"
      },
      "execution_count": null,
      "outputs": []
    },
    {
      "cell_type": "code",
      "source": [
        "# Q3 Explain the difference between a function definition and a function call.\n",
        "\"\"\" A function definition is the code that declares and defines the function,\n",
        "specifying its name, parameters, body, and return value. A function definition\n",
        "does not execute the function, but only creates it. A function call is the code\n",
        "that invokes or uses the function, passing the actual values or arguments to the\n",
        " function and receiving the result or output. A function call executes the function\n",
        " and runs the statements in the function body. For example, the following is a function\n",
        " call that uses the add function defined above:\"\"\"\n",
        "\n",
        "result = add (2, 3) # This is a function call\n",
        "print (result) # This prints 5\n"
      ],
      "metadata": {
        "colab": {
          "base_uri": "https://localhost:8080/"
        },
        "id": "j9EK-umqKdiL",
        "outputId": "42fd85f1-8f66-4d39-b401-69ec3bd52681"
      },
      "execution_count": null,
      "outputs": [
        {
          "output_type": "stream",
          "name": "stdout",
          "text": [
            "5\n"
          ]
        }
      ]
    },
    {
      "cell_type": "code",
      "source": [
        "# Q4 Write a Python program that defines a function to calculate the sum of two numbers and then calls the function.\n",
        "\n",
        "# Define a function to calculate the sum of two numbers\n",
        "def sum_of_two (x, y):\n",
        "    \"\"\"Return the sum of two numbers.\"\"\"\n",
        "    return x + y\n",
        "\n",
        "# Call the function with some examples\n",
        "print (sum_of_two (10, 20)) # This prints 30\n",
        "print (sum_of_two (5, 7)) # This prints 12\n"
      ],
      "metadata": {
        "colab": {
          "base_uri": "https://localhost:8080/"
        },
        "id": "jQoqww3iLjBS",
        "outputId": "667b7e7e-a7e8-4ccf-d1e0-2dc8584144dd"
      },
      "execution_count": null,
      "outputs": [
        {
          "output_type": "stream",
          "name": "stdout",
          "text": [
            "30\n",
            "12\n"
          ]
        }
      ]
    },
    {
      "cell_type": "code",
      "source": [
        "# Q5 What is a function signature, and what information does it typically include?\n",
        "\"\"\" A function signature is a part of the function definition that specifies the name, parameters, and return type of the function. The function signature helps define the interface or contract of the function, indicating what kind of input and output the function expects and provides. The function signature typically includes the following information:\n",
        "\n",
        "* The name of the function, which should be descriptive and follow the naming conventions of Python.\n",
        "* The parameters of the function, which are the names of the variables that hold the input arguments. The parameters can have default values or type annotations to indicate the expected types of the arguments.\n",
        "* The return type of the function, which is the type of the value that the function returns. The return type can be specified using a type annotation with the -> symbol after the parameters.\n",
        "For example, the following is a function signature that defines a function called multiply that takes two numbers as parameters and returns their product as a number: \"\"\"\n",
        "\n",
        "def multiply (a: int, b: int) -> int:\n",
        "    # Use the * operator to multiply a and b\n",
        "    result = a * b\n",
        "    # Return the result\n",
        "    return result\n",
        "\n"
      ],
      "metadata": {
        "id": "i_LKo1g3LwO8"
      },
      "execution_count": null,
      "outputs": []
    },
    {
      "cell_type": "code",
      "source": [
        "# Q6 Create a Python function that takes two arguments and returns their product.\n",
        "# Define a function that takes two arguments and returns their product\n",
        "def product (a, b):\n",
        "    # Return the result of multiplying a and b\n",
        "    return a * b\n",
        "\n",
        "# Test the function with some examples\n",
        "print (product (2, 3)) # This prints 6\n",
        "print (product (5, 4)) # This prints 20\n",
        "\n"
      ],
      "metadata": {
        "colab": {
          "base_uri": "https://localhost:8080/"
        },
        "id": "cWwQe8ncMHQa",
        "outputId": "ee4b3049-6dd8-4181-ff7f-11a82e8fe1a8"
      },
      "execution_count": null,
      "outputs": [
        {
          "output_type": "stream",
          "name": "stdout",
          "text": [
            "6\n",
            "20\n"
          ]
        }
      ]
    },
    {
      "cell_type": "markdown",
      "source": [
        "# **Function Parameters and Arguments:**"
      ],
      "metadata": {
        "id": "iu3aaQpjNM4p"
      }
    },
    {
      "cell_type": "code",
      "source": [
        "# Q1 Explain the concepts of formal parameters and actual arguments in Python functions.\n",
        "\n",
        "\"\"\" Formal parameters and actual arguments are two terms related to the passing of data to\n",
        " a function in Python. Formal parameters are the names of the variables that are used in the\n",
        " function definition to receive the input values. Actual arguments are the values that are passed\n",
        "  to the function when it is called. For example, consider the following function definition and call:\"\"\"\n",
        "\n",
        "  # Define a function that takes two formal parameters: x and y\n",
        "def add(x, y):\n",
        "    return x + y\n",
        "\n",
        "# Call the function with two actual arguments: 3 and 5\n",
        "result = add(3, 5)\n",
        "print(result) # This prints 8\n"
      ],
      "metadata": {
        "colab": {
          "base_uri": "https://localhost:8080/"
        },
        "id": "rYg8uBxeMhF6",
        "outputId": "1c728ce7-376b-4526-b67c-989017aff4d7"
      },
      "execution_count": null,
      "outputs": [
        {
          "output_type": "stream",
          "name": "stdout",
          "text": [
            "8\n"
          ]
        }
      ]
    },
    {
      "cell_type": "code",
      "source": [
        "# Q2 Write a Python program that defines a function with default argument values.\n",
        "\n",
        "\n",
        "\"\"\" To define a function with default argument values in Python, you can use the\n",
        " assignment operator = to assign a default value to a parameter in the function signature.\n",
        "  For example, the following function has two parameters: name and greeting, and the second\n",
        "   parameter has a default value of \"Hello\": \"\"\"\n",
        "   # Define a function with a default argument value\n",
        "def greet(name, greeting=\"Hello\"):\n",
        "    print(greeting, name)\n",
        "\n",
        "# Call the function with only one argument\n",
        "greet(\"Alice\") # This prints \"Hello Alice\"\n",
        "\n",
        "# Call the function with two arguments\n",
        "greet(\"Bob\", \"Hi\") # This prints \"Hi Bob\"\n"
      ],
      "metadata": {
        "colab": {
          "base_uri": "https://localhost:8080/"
        },
        "id": "U_sn5xO_OI60",
        "outputId": "bf63c976-24c7-4add-9c19-d3094bf6444f"
      },
      "execution_count": null,
      "outputs": [
        {
          "output_type": "stream",
          "name": "stdout",
          "text": [
            "Hello Alice\n",
            "Hi Bob\n"
          ]
        }
      ]
    },
    {
      "cell_type": "code",
      "source": [
        "# Q3 How do you use keyword arguments in Python function calls? Provide an example.\n",
        "\n",
        "\"\"\" To use keyword arguments in Python function calls, you can specify the parameter\n",
        "name and the argument value using the syntax parameter=value. This allows you to pass\n",
        "arguments in any order, and to skip arguments that have default values. For example,\n",
        "consider the following function definition and call: \"\"\"\n",
        "\n",
        "# Define a function that takes three parameters\n",
        "def display_info(name, age, city):\n",
        "    print(\"Name:\", name)\n",
        "    print(\"Age:\", age)\n",
        "    print(\"City:\", city)\n",
        "\n",
        "# Call the function with keyword arguments\n",
        "display_info(name=\"Charlie\", city=\"London\", age=25)\n"
      ],
      "metadata": {
        "colab": {
          "base_uri": "https://localhost:8080/"
        },
        "id": "WU9aWUoUOZWG",
        "outputId": "a1acf6b5-303b-42c6-90c3-6bf699c61dac"
      },
      "execution_count": null,
      "outputs": [
        {
          "output_type": "stream",
          "name": "stdout",
          "text": [
            "Name: Charlie\n",
            "Age: 25\n",
            "City: London\n"
          ]
        }
      ]
    },
    {
      "cell_type": "code",
      "source": [
        "# Q4 Create a Python function that accepts a variable number of arguments and calculates their sum.\n",
        "\n",
        "\"\"\" To create a Python function that accepts a variable number of arguments and calculates their sum,\n",
        " you can use the special syntax *args in the function signature. This allows the function to receive any\n",
        "  number of positional arguments as a tuple, and to iterate over them using a loop. For example, the following\n",
        "   function accepts a variable number of arguments and returns their sum: \"\"\"\n",
        "\n",
        "   # Define a function that accepts a variable number of arguments\n",
        "def sum_all(*args):\n",
        "    total = 0\n",
        "    for num in args:\n",
        "        total += num\n",
        "    return total\n",
        "\n",
        "# Call the function with different numbers of arguments\n",
        "print(sum_all(1, 2, 3)) # This prints 6\n",
        "print(sum_all(4, 5, 6, 7, 8)) # This prints 30\n",
        "print(sum_all(10)) # This prints 10\n"
      ],
      "metadata": {
        "colab": {
          "base_uri": "https://localhost:8080/"
        },
        "id": "dIUkHsm1OrME",
        "outputId": "f7d72541-e035-4248-d6d6-31ee1ec241df"
      },
      "execution_count": null,
      "outputs": [
        {
          "output_type": "stream",
          "name": "stdout",
          "text": [
            "6\n",
            "30\n",
            "10\n"
          ]
        }
      ]
    },
    {
      "cell_type": "code",
      "source": [
        "# Q5 What is the purpose of the `*args` and `**kwargs` syntax in function parameter lists?\n",
        "\n",
        "\"\"\" The purpose of the *args and **kwargs syntax in function parameter lists is to allow the\n",
        "function to accept a variable number of arguments, either positional or keyword. The *args syntax\n",
        "allows the function to receive any number of positional arguments as a tuple, and the **kwargs syntax\n",
        "allows the function to receive any number of keyword arguments as a dictionary. These special syntaxes\n",
        "provide flexibility and convenience when you don’t know how many arguments will be passed to the function,\n",
        "or when you want to pass arguments from another function or data structure. For example, the following function\n",
        "uses both *args and **kwargs to print out the arguments it receives: \"\"\"\n",
        "\n",
        "\n",
        "# Define a function that uses both *args and **kwargs\n",
        "def print_args_and_kwargs(*args, **kwargs):\n",
        "    print(\"Positional arguments:\")\n",
        "    for arg in args:\n",
        "        print(arg)\n",
        "    print(\"Keyword arguments:\")\n",
        "    for key, value in kwargs.items():\n",
        "        print(key, \"=\", value)\n",
        "\n",
        "# Call the function with different kinds of arguments\n",
        "print_args_and_kwargs(1, 2, 3, a=4, b=5, c=6)\n"
      ],
      "metadata": {
        "colab": {
          "base_uri": "https://localhost:8080/"
        },
        "id": "19ZOvtSpO5oL",
        "outputId": "880cfbdb-355d-4bcd-bee2-0c0d852e0883"
      },
      "execution_count": null,
      "outputs": [
        {
          "output_type": "stream",
          "name": "stdout",
          "text": [
            "Positional arguments:\n",
            "1\n",
            "2\n",
            "3\n",
            "Keyword arguments:\n",
            "a = 4\n",
            "b = 5\n",
            "c = 6\n"
          ]
        }
      ]
    },
    {
      "cell_type": "markdown",
      "source": [
        "# **Return Values and Scoping:**\n"
      ],
      "metadata": {
        "id": "QgfcFtMhPoRy"
      }
    },
    {
      "cell_type": "code",
      "source": [
        "# Q1 Describe the role of the `return` statement in Python functions and provide examples.\n",
        "\n",
        "\n",
        "\"\"\" The return statement in Python functions is used to end the execution of the function and\n",
        "send back a value or an object to the caller. The value or object that follows the return keyword\n",
        "is called the return value.\n",
        "For example, the following function returns the sum of two numbers: \"\"\"\n",
        "\n",
        "def add(a, b):\n",
        "    return a + b\n",
        "\n",
        "\"\"\" The return value can be used by the caller for further computation or processing.\n",
        " If the return statement is without any value or object, then the special value None is returned.\n",
        "  For example, the following function does not return anything: \"\"\"\n",
        "\n",
        "def greet(name):\n",
        "    print(\"Hello, \" + name)\n",
        "    return\n"
      ],
      "metadata": {
        "id": "DH-1JL8lPfl3"
      },
      "execution_count": null,
      "outputs": []
    },
    {
      "cell_type": "code",
      "source": [
        "# Q2 Explain the concept of variable scope in Python, including local and global variables\n",
        "\n",
        "\"\"\" Local Variables: These are variables that are defined inside a function.\n",
        "They are accessible only within that function. Once the function execution completes,\n",
        "local variables are destroyed, and their values are no longer available.\n",
        "For example: \"\"\"\n",
        "def greet():\n",
        "    # local variable\n",
        "    message = 'Hello'\n",
        "    print('Local', message)\n",
        "greet()\n",
        "# try to access message variable outside greet() function\n",
        "# print(message)  # This will raise a NameError\n",
        "\n",
        "\n",
        "\"\"\" Global Variables: These are variables that are declared outside of any function12.\n",
        "They can be accessed inside or outside of the function2.\n",
        " For example: \"\"\"\n",
        "# declare global variable\n",
        "message = 'Hello'\n",
        "def greet():\n",
        "    # declare local variable\n",
        "    print('Local', message)\n",
        "greet()\n",
        "print('Global', message)\n"
      ],
      "metadata": {
        "colab": {
          "base_uri": "https://localhost:8080/"
        },
        "id": "JPiBIIgvq73X",
        "outputId": "af88b30f-828d-479e-d4c6-714e2b30fc2d"
      },
      "execution_count": null,
      "outputs": [
        {
          "output_type": "stream",
          "name": "stdout",
          "text": [
            "Local Hello\n",
            "Local Hello\n",
            "Global Hello\n"
          ]
        }
      ]
    },
    {
      "cell_type": "code",
      "source": [
        "# Q3 Write a Python program that demonstrates the use of global variables within functions.\n",
        "\n",
        "# Define a global variable\n",
        "name = \"Rahul\"\n",
        "\n",
        "# Define a function that uses the global variable\n",
        "def greet():\n",
        "    # Use the global keyword to access the global variable\n",
        "    global name\n",
        "    print(\"Hello, \" + name)\n",
        "\n",
        "# Call the function\n",
        "greet()\n",
        "\n",
        "# Change the value of the global variable\n",
        "name = \"Rohit\"\n",
        "\n",
        "# Call the function again\n",
        "greet()\n"
      ],
      "metadata": {
        "colab": {
          "base_uri": "https://localhost:8080/"
        },
        "id": "SU3REXnUr5yc",
        "outputId": "cfe2b1ce-c23d-4a29-a956-6773321227f0"
      },
      "execution_count": null,
      "outputs": [
        {
          "output_type": "stream",
          "name": "stdout",
          "text": [
            "Hello, Rahul\n",
            "Hello, Rohit\n"
          ]
        }
      ]
    },
    {
      "cell_type": "code",
      "source": [
        "# Q4 Create a Python function that calculates the factorial of a number and returns it.\n",
        "def factorial(n):\n",
        "    if n < 0:\n",
        "        return \"Factorial is not defined for negative numbers\"\n",
        "    elif n == 0 or n == 1:\n",
        "        return 1\n",
        "    else:\n",
        "        result = 1\n",
        "        for i in range(2, n + 1):\n",
        "            result *= i\n",
        "        return result\n",
        "\n",
        "# Example usage:\n",
        "number = 5\n",
        "result = factorial(number)\n",
        "print(f\"The factorial of {number} is: {result}\")\n",
        "\n"
      ],
      "metadata": {
        "colab": {
          "base_uri": "https://localhost:8080/"
        },
        "id": "fugQb37R7Kpl",
        "outputId": "34e854c0-0a1f-4efd-8652-5e1568fcf957"
      },
      "execution_count": null,
      "outputs": [
        {
          "output_type": "stream",
          "name": "stdout",
          "text": [
            "The factorial of 5 is: 120\n"
          ]
        }
      ]
    },
    {
      "cell_type": "code",
      "source": [
        "# Q5 How can you access variables defined outside a function from within the function?\n"
      ],
      "metadata": {
        "id": "ySxT39Bk7jHz"
      },
      "execution_count": null,
      "outputs": []
    },
    {
      "cell_type": "markdown",
      "source": [
        "There are different ways to access variables defined outside a function from within the function in Python, depending on the scope and the intention of the variable. Here are some common methods:\n",
        "\n",
        "* **Using global variables**: A global variable is a variable that is defined in the global scope, which means it can be accessed by any function in the program. To use a global variable inside a function, you need to use the global keyword before the variable name. This tells Python that you are referring to the global variable, not a local one.\n",
        " For example:"
      ],
      "metadata": {
        "id": "rqEieMey8gZ6"
      }
    },
    {
      "cell_type": "code",
      "source": [
        "# Define a global variable\n",
        "x = 10\n",
        "\n",
        "# Define a function that uses the global variable\n",
        "def foo():\n",
        "    # Use the global keyword to access the global variable\n",
        "    global x\n",
        "    # Print the value of x\n",
        "    print(x)\n",
        "    # Modify the value of x\n",
        "    x = 20\n",
        "\n",
        "# Call the function\n",
        "foo()\n",
        "# Print the value of x again\n",
        "print(x)\n"
      ],
      "metadata": {
        "colab": {
          "base_uri": "https://localhost:8080/"
        },
        "id": "lMZH-o5q8pFx",
        "outputId": "d45ab2da-3d72-4832-ca35-fa3c429b1d37"
      },
      "execution_count": null,
      "outputs": [
        {
          "output_type": "stream",
          "name": "stdout",
          "text": [
            "10\n",
            "20\n"
          ]
        }
      ]
    },
    {
      "cell_type": "markdown",
      "source": [
        "* **Using function attributes**: A function attribute is a variable that is attached to a function object as an attribute. This means that the variable can be accessed by using the dot notation with the function name. To use a function attribute inside a function, you need to assign a value to the attribute inside the function body. For example:"
      ],
      "metadata": {
        "id": "0UVk6k8D8vOm"
      }
    },
    {
      "cell_type": "code",
      "source": [
        "# Define a function\n",
        "def bar():\n",
        "    # Assign a value to a function attribute\n",
        "    bar.y = 30\n",
        "    # Print the value of y\n",
        "    print(bar.y)\n",
        "\n",
        "# Call the function\n",
        "bar()\n",
        "# Print the value of y again\n",
        "print(bar.y)\n"
      ],
      "metadata": {
        "colab": {
          "base_uri": "https://localhost:8080/"
        },
        "id": "W-5JKhCQ8rXj",
        "outputId": "f7d48679-eb79-411b-f5e7-e938d25650c0"
      },
      "execution_count": null,
      "outputs": [
        {
          "output_type": "stream",
          "name": "stdout",
          "text": [
            "30\n",
            "30\n"
          ]
        }
      ]
    },
    {
      "cell_type": "markdown",
      "source": [
        "* **Using nonlocal variables**: A nonlocal variable is a variable that is defined in an enclosing scope, which means it can be accessed by a nested function in the same scope. To use a nonlocal variable inside a nested function, you need to use the nonlocal keyword before the variable name. This tells Python that you are referring to the nonlocal variable, not a local one. For example:"
      ],
      "metadata": {
        "id": "E4HGBipm88q1"
      }
    },
    {
      "cell_type": "code",
      "source": [
        "# Define an outer function\n",
        "def baz():\n",
        "    # Define a nonlocal variable\n",
        "    z = 40\n",
        "    # Define a nested function\n",
        "    def qux():\n",
        "        # Use the nonlocal keyword to access the nonlocal variable\n",
        "        nonlocal z\n",
        "        # Print the value of z\n",
        "        print(z)\n",
        "        # Modify the value of z\n",
        "        z = 50\n",
        "    # Call the nested function\n",
        "    qux()\n",
        "    # Print the value of z again\n",
        "    print(z)\n",
        "\n",
        "# Call the outer function\n",
        "baz()\n"
      ],
      "metadata": {
        "colab": {
          "base_uri": "https://localhost:8080/"
        },
        "id": "ThUkkFGA85qX",
        "outputId": "8772e316-dca5-420c-d7a5-6f459305262a"
      },
      "execution_count": null,
      "outputs": [
        {
          "output_type": "stream",
          "name": "stdout",
          "text": [
            "40\n",
            "50\n"
          ]
        }
      ]
    },
    {
      "cell_type": "markdown",
      "source": [
        "# **Lambda Functions and Higher-Order Functions:**"
      ],
      "metadata": {
        "id": "Ab5YgS8J9KvX"
      }
    },
    {
      "cell_type": "code",
      "source": [
        "# Q1 What are lambda functions in Python, and when are they typically used?\n",
        "\"\"\" Lambda functions are anonymous functions that can be defined using a single expression.\n",
        " They are typically used when you need a simple function for a short period of time, such as passing it as an argument to another function or using it in a list comprehension.\n",
        "  You can learn more about lambda functions from \"\"\"\n",
        "\n"
      ],
      "metadata": {
        "id": "-jccAorw9CfT",
        "colab": {
          "base_uri": "https://localhost:8080/",
          "height": 70
        },
        "outputId": "15082f4e-c035-488f-e96d-00ac0e825c70"
      },
      "execution_count": null,
      "outputs": [
        {
          "output_type": "execute_result",
          "data": {
            "text/plain": [
              "' Lambda functions are anonymous functions that can be defined using a single expression.\\n They are typically used when you need a simple function for a short period of time, such as passing it as an argument to another function or using it in a list comprehension.\\n  You can learn more about lambda functions from '"
            ],
            "application/vnd.google.colaboratory.intrinsic+json": {
              "type": "string"
            }
          },
          "metadata": {},
          "execution_count": 1
        }
      ]
    },
    {
      "cell_type": "code",
      "source": [
        "# Q2 Write a Python program that uses lambda functions to sort a list of tuples based on the second element.\n",
        "# Define a list of tuples\n",
        "my_list = [(1, 5), (3, 2), (4, 4), (2, 3)]\n",
        "\n",
        "# Sort the list using a lambda function as the key\n",
        "my_list.sort(key=lambda x: x[1])\n",
        "\n",
        "# Print the sorted list\n",
        "print(my_list)\n"
      ],
      "metadata": {
        "colab": {
          "base_uri": "https://localhost:8080/"
        },
        "id": "oddMZoyy0cAm",
        "outputId": "0023458f-d77f-40ac-f5e0-c68346f23118"
      },
      "execution_count": null,
      "outputs": [
        {
          "output_type": "stream",
          "name": "stdout",
          "text": [
            "[(3, 2), (2, 3), (4, 4), (1, 5)]\n"
          ]
        }
      ]
    },
    {
      "cell_type": "code",
      "source": [
        "# Q3 Explain the concept of higher-order functions in Python, and provide an example.\n",
        "\n",
        "\n",
        "\"\"\" Higher-order functions in Python:\n",
        "Higher-order functions in Python are functions that can take other functions as arguments or return functions as results. In Python, functions are first-class citizens, meaning they can be treated like any other object, such as integers, strings, or lists. This allows for the creation of higher-order functions, which enhance the flexibility and modularity of your code.\n",
        "\n",
        "Here's a simple example of a higher-order function using the map function: \"\"\"\n",
        "\n",
        "# Example of a higher-order function using map\n",
        "def square(x):\n",
        "    return x * x\n",
        "\n",
        "numbers = [1, 2, 3, 4, 5]\n",
        "\n",
        "# Using map to apply the square function to each element in the list\n",
        "squared_numbers = map(square, numbers)\n",
        "\n",
        "# Converting the result to a list for visualization\n",
        "squared_numbers_list = list(squared_numbers)\n",
        "\n",
        "print(squared_numbers_list)  # Output: [1, 4, 9, 16, 25]\n"
      ],
      "metadata": {
        "colab": {
          "base_uri": "https://localhost:8080/"
        },
        "id": "OjcqaaxF0p8n",
        "outputId": "211f0ba9-e1d9-418a-9bd8-83e27ddb9037"
      },
      "execution_count": null,
      "outputs": [
        {
          "output_type": "stream",
          "name": "stdout",
          "text": [
            "[1, 4, 9, 16, 25]\n"
          ]
        }
      ]
    },
    {
      "cell_type": "code",
      "source": [
        "# Q4 Create a Python function that takes a list of numbers and a function as arguments, applying the function to each element in the list.\n",
        "\n",
        "# Define a function that takes a list and a function as arguments\n",
        "def apply_func(lst, func):\n",
        "    # Initialize an empty list to store the results\n",
        "    result = []\n",
        "    # Loop through each element in the list\n",
        "    for x in lst:\n",
        "        # Apply the function to the element and append it to the result list\n",
        "        result.append(func(x))\n",
        "    # Return the result list\n",
        "    return result\n",
        "\n",
        "# Define a sample list of numbers\n",
        "my_list = [1, 2, 3, 4, 5]\n",
        "\n",
        "# Define a sample function that squares a number\n",
        "def square(x):\n",
        "    return x ** 2\n",
        "\n",
        "# Call the apply_func function with the sample list and function\n",
        "print(apply_func(my_list, square))\n"
      ],
      "metadata": {
        "colab": {
          "base_uri": "https://localhost:8080/"
        },
        "id": "VmGjkB8V1YET",
        "outputId": "12eb0d0d-9be0-42c5-fd0c-599a68e31d83"
      },
      "execution_count": null,
      "outputs": [
        {
          "output_type": "stream",
          "name": "stdout",
          "text": [
            "[1, 4, 9, 16, 25]\n"
          ]
        }
      ]
    },
    {
      "cell_type": "markdown",
      "source": [
        "# **Built-in Functions:**\n"
      ],
      "metadata": {
        "id": "whU7wi7o1j6o"
      }
    },
    {
      "cell_type": "code",
      "source": [
        "# Q1 Describe the role of built-in functions like `len()`, `max()`, and `min()` in Python.\n",
        "\n",
        "\"\"\" Built-in functions are functions that are available in Python without importing any modules. They can perform common tasks on different types of objects, such as numbers, strings, lists, tuples, and so on. Some examples of built-in functions are len(), max(), and min().\n",
        "\n",
        "len() returns the number of items in an object that supports the __len__() method, such as a string, a list, a tuple, or a dictionary. For example, len(\"Hello\") returns 5, and len([1, 2, 3]) returns 3.\n",
        "max() returns the largest item in an iterable, such as a list, a tuple, or a string, or the largest of two or more arguments. The items must be comparable, meaning they support the __lt__() method. For example, max(3, 5) returns 5, and max(\"a\", \"b\", \"c\") returns \"c\".\n",
        "min() returns the smallest item in an iterable, such as a list, a tuple, or a string, or the smallest of two or more arguments. The items must be comparable, meaning they support the __lt__() method. For example, min(3, 5) returns 3, and min(\"a\", \"b\", \"c\") returns \"a\".  \"\"\"\n",
        "\n"
      ],
      "metadata": {
        "colab": {
          "base_uri": "https://localhost:8080/",
          "height": 157
        },
        "id": "T632Ppmh1f36",
        "outputId": "49d60e20-41ae-475a-e056-51544c19ec46"
      },
      "execution_count": null,
      "outputs": [
        {
          "output_type": "execute_result",
          "data": {
            "text/plain": [
              "' Built-in functions are functions that are available in Python without importing any modules. They can perform common tasks on different types of objects, such as numbers, strings, lists, tuples, and so on. Some examples of built-in functions are len(), max(), and min().\\n\\nlen() returns the number of items in an object that supports the __len__() method, such as a string, a list, a tuple, or a dictionary. For example, len(\"Hello\") returns 5, and len([1, 2, 3]) returns 3.\\nmax() returns the largest item in an iterable, such as a list, a tuple, or a string, or the largest of two or more arguments. The items must be comparable, meaning they support the __lt__() method. For example, max(3, 5) returns 5, and max(\"a\", \"b\", \"c\") returns \"c\".\\nmin() returns the smallest item in an iterable, such as a list, a tuple, or a string, or the smallest of two or more arguments. The items must be comparable, meaning they support the __lt__() method. For example, min(3, 5) returns 3, and min(\"a\", \"b\", \"c\") returns \"a\".  '"
            ],
            "application/vnd.google.colaboratory.intrinsic+json": {
              "type": "string"
            }
          },
          "metadata": {},
          "execution_count": 5
        }
      ]
    },
    {
      "cell_type": "code",
      "source": [
        "# Q2 Write a Python program that uses the `map()` function to apply a function to each element of a list.\n",
        "\n",
        "# Define a list of numbers\n",
        "numbers = [1, 2, 3, 4, 5]\n",
        "\n",
        "# Define a function that squares a number\n",
        "def square(x):\n",
        "    return x ** 2\n",
        "\n",
        "# Use the map() function to apply the function to each element of the list\n",
        "result = map(square, numbers)\n",
        "\n",
        "# Convert the result to a list and print it\n",
        "print(list(result))\n"
      ],
      "metadata": {
        "colab": {
          "base_uri": "https://localhost:8080/"
        },
        "id": "24ln3l0X5Ck4",
        "outputId": "1589bf1d-552a-4593-d534-31addef374db"
      },
      "execution_count": null,
      "outputs": [
        {
          "output_type": "stream",
          "name": "stdout",
          "text": [
            "[1, 4, 9, 16, 25]\n"
          ]
        }
      ]
    },
    {
      "cell_type": "code",
      "source": [
        "# Q3 How does the `filter()` function work in Python, and when would you use it?\n",
        "\n",
        "\n",
        "\"\"\" The filter() function works in Python by filtering out the items in an iterable that do not satisfy a given condition.\n",
        " The filter() function takes a function and an iterable as arguments and returns an iterator of the items that return True when passed to the function.\n",
        "  The function must be a predicate, meaning it returns a Boolean value. For example, you can use the filter() function to filter out the odd numbers from a list: \"\"\"\n",
        "\n",
        "# Define a list of numbers\n",
        "numbers = [1, 2, 3, 4, 5]\n",
        "\n",
        "# Define a function that checks if a number is even\n",
        "def is_even(x):\n",
        "    return x % 2 == 0\n",
        "\n",
        "# Use the filter() function to filter out the odd numbers from the list\n",
        "result = filter(is_even, numbers)\n",
        "\n",
        "# Convert the result to a list and print it\n",
        "print(list(result))\n",
        "\n"
      ],
      "metadata": {
        "colab": {
          "base_uri": "https://localhost:8080/"
        },
        "id": "hvwyG3wB5KHF",
        "outputId": "4ad82ec3-32cb-4735-a227-f5a9fb177fb4"
      },
      "execution_count": null,
      "outputs": [
        {
          "output_type": "stream",
          "name": "stdout",
          "text": [
            "[2, 4]\n"
          ]
        }
      ]
    },
    {
      "cell_type": "code",
      "source": [
        "# Q4 Create a Python program that uses the `reduce()` function to find the product of all elements in a list.\n",
        "\n",
        "\n",
        "# Import the reduce() function from the functools module\n",
        "from functools import reduce\n",
        "\n",
        "# Define a list of numbers\n",
        "numbers = [1, 2, 3, 4, 5]\n",
        "\n",
        "# Define a function that multiplies two numbers\n",
        "def multiply(x, y):\n",
        "    return x * y\n",
        "\n",
        "# Use the reduce() function to apply the function to each pair of elements in the list and reduce it to a single value\n",
        "result = reduce(multiply, numbers)\n",
        "\n",
        "# Print the result\n",
        "print(result)\n"
      ],
      "metadata": {
        "colab": {
          "base_uri": "https://localhost:8080/"
        },
        "id": "WKQGVJQi5Zce",
        "outputId": "347c9940-629b-4e9e-9f8d-0c4408978f83"
      },
      "execution_count": null,
      "outputs": [
        {
          "output_type": "stream",
          "name": "stdout",
          "text": [
            "120\n"
          ]
        }
      ]
    },
    {
      "cell_type": "markdown",
      "source": [
        "# **Function Documentation and Best Practices:**\n"
      ],
      "metadata": {
        "id": "CA4IKI9n5jlP"
      }
    },
    {
      "cell_type": "markdown",
      "source": [
        "# Q1 Explain the purpose of docstrings in Python functions and how to write them.\n",
        "\n",
        "\n",
        "The purpose of docstrings in Python functions is to provide a convenient way of documenting the functionality, parameters, return values, and exceptions of the functions. Docstrings are string literals that appear right after the definition of a function, enclosed by triple quotes (either single or double). They can be accessed by the __doc__ attribute of the function object or by the help() function. Docstrings can also be used by external tools to generate documentation for Python modules, such as Sphinx or Pydoc.\n",
        "\n",
        "To write docstrings in Python functions, you should follow some general conventions and guidelines, such as:\n",
        "\n",
        "* The first line of the docstring should be a short summary of what the function does, starting with a capital letter and ending with a period.\n",
        "* If there are more lines in the docstring, the second line should be blank, visually separating the summary from the rest of the description.\n",
        "* The following lines should provide more details about the function, such as its parameters, return values, exceptions, examples, and references.\n",
        "* The parameters and return values should be formatted using the :param name: description and :return: description syntax, respectively.\n",
        "* The exceptions should be listed using the :raises exception: description syntax.\n",
        "* The examples should be enclosed in a :: block, with the code indented by four spaces.\n",
        "* The references should be cited using the name syntax, where name is the name of the source and i is the index of the URL in the web search results."
      ],
      "metadata": {
        "id": "Bjt73_UOQk9g"
      }
    },
    {
      "cell_type": "code",
      "source": [
        "# here is the example:-\n",
        "\n",
        "def factorial(n):\n",
        "\n",
        "    # Check if n is valid\n",
        "    if n < 0 or not isinstance(n, int):\n",
        "        # Raise an exception if n is negative or not an integer\n",
        "        raise ValueError(\"n must be a non-negative integer\")\n",
        "    # Initialize the result to 1\n",
        "    result = 1\n",
        "    # Loop from 1 to n\n",
        "    for i in range(1, n + 1):\n",
        "        # Multiply the result by i\n",
        "        result *= i\n",
        "    # Return the result\n",
        "    return result\n"
      ],
      "metadata": {
        "id": "m7O_n03q5fl-"
      },
      "execution_count": 2,
      "outputs": []
    },
    {
      "cell_type": "markdown",
      "source": [
        "# Q2 Describe some best practices for naming functions and variables in Python, including naming conventions and guidelines.\n",
        "\n",
        "\n",
        "Functions:\n",
        "\n",
        "    Use Descriptive Names:\n",
        "        Choose names that clearly indicate the purpose of the function. A function name should be a brief summary of what the function does.\n",
        "\n",
        "    Follow PEP 8 Guidelines:\n",
        "        Adhere to the PEP 8 style guide for Python code. This includes using lowercase letters with words separated by underscores (snake_case).\n",
        "\n",
        "    Use Verb-Noun Pairing:\n",
        "        Typically, function names should reflect the action they perform. For example, use names like calculate_area() or validate_input().\n",
        "\n",
        "    Be Consistent:\n",
        "        Maintain consistency in your function naming throughout the codebase. Consistency enhances readability.\n",
        "\n",
        "    Avoid Ambiguous Names:\n",
        "        Choose names that are unambiguous and do not leave room for confusion. Aim for clarity.\n",
        "\n",
        "    Keep Functions Small and Focused:\n",
        "        A function should ideally perform a single, well-defined task. If a function does too many things, consider breaking it into smaller functions.\n",
        "\n",
        "    Use PEP 484 Type Hints:\n",
        "        Consider using type hints (introduced in PEP 484) to indicate the expected types of parameters and return values.\n",
        "\n",
        "    Avoid Single-Letter Names:\n",
        "        Unless used as iterators in loops, avoid single-letter variable names. Use meaningful names to enhance comprehension.\n",
        "\n",
        "Variables:\n",
        "\n",
        "    Use Descriptive and Meaningful Names:\n",
        "        Variable names should be descriptive and convey the purpose of the variable. Avoid generic names like temp or x.\n",
        "\n",
        "    Follow PEP 8 Guidelines:\n",
        "        Use lowercase letters with words separated by underscores (snake_case) for variable names.\n",
        "\n",
        "    Avoid Acronyms and Abbreviations:\n",
        "        Unless widely understood, avoid acronyms and abbreviations in variable names. Opt for more descriptive alternatives.\n",
        "\n",
        "    Be Consistent:\n",
        "        Maintain consistency in variable naming within a function or module. Consistency improves code readability.\n",
        "\n",
        "    Use Constants for Constants:\n",
        "        If a variable is meant to be a constant, use uppercase letters with words separated by underscores (e.g., MAX_SIZE).\n",
        "\n",
        "    Avoid Magic Numbers:\n",
        "        If a number has a specific meaning, assign it to a named constant rather than using the number directly in the code.\n",
        "\n",
        "    Choose Appropriate Scope:\n",
        "        Variables should have a scope that is appropriate for their usage. Avoid using global variables unnecessarily.\n",
        "\n",
        "    Use PEP 484 Type Hints:\n",
        "        Similar to functions, consider using type hints for variables to improve code documentation."
      ],
      "metadata": {
        "id": "TdKsZpPHSYZs"
      }
    },
    {
      "cell_type": "code",
      "source": [],
      "metadata": {
        "id": "ezOn7TutRKQa"
      },
      "execution_count": null,
      "outputs": []
    }
  ]
}